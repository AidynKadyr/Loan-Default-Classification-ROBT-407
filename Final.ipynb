{
 "cells": [
  {
   "cell_type": "code",
   "execution_count": null,
   "metadata": {},
   "outputs": [],
   "source": [
    "# https://www.kaggle.com/wordsforthewise/lending-club   dataset named accepted_2007_to_2018Q4.csv.gz only"
   ]
  },
  {
   "cell_type": "markdown",
   "metadata": {},
   "source": [
    "# Data preprocessing and EDA"
   ]
  },
  {
   "cell_type": "code",
   "execution_count": 2,
   "metadata": {},
   "outputs": [
    {
     "name": "stderr",
     "output_type": "stream",
     "text": [
      "C:\\Aidyn\\Python\\lib\\site-packages\\statsmodels\\tools\\_testing.py:19: FutureWarning: pandas.util.testing is deprecated. Use the functions in the public API at pandas.testing instead.\n",
      "  import pandas.util.testing as tm\n"
     ]
    }
   ],
   "source": [
    "import seaborn as sns\n",
    "import numpy as np\n",
    "import pandas as pd\n",
    "import matplotlib.pyplot as plt"
   ]
  },
  {
   "cell_type": "code",
   "execution_count": 3,
   "metadata": {},
   "outputs": [
    {
     "name": "stderr",
     "output_type": "stream",
     "text": [
      "C:\\Aidyn\\Python\\lib\\site-packages\\IPython\\core\\interactiveshell.py:3058: DtypeWarning: Columns (0,19,49,59,118,129,130,131,134,135,136,139,145,146,147) have mixed types.Specify dtype option on import or set low_memory=False.\n",
      "  interactivity=interactivity, compiler=compiler, result=result)\n"
     ]
    },
    {
     "data": {
      "text/html": [
       "<div>\n",
       "<style scoped>\n",
       "    .dataframe tbody tr th:only-of-type {\n",
       "        vertical-align: middle;\n",
       "    }\n",
       "\n",
       "    .dataframe tbody tr th {\n",
       "        vertical-align: top;\n",
       "    }\n",
       "\n",
       "    .dataframe thead th {\n",
       "        text-align: right;\n",
       "    }\n",
       "</style>\n",
       "<table border=\"1\" class=\"dataframe\">\n",
       "  <thead>\n",
       "    <tr style=\"text-align: right;\">\n",
       "      <th></th>\n",
       "      <th>id</th>\n",
       "      <th>member_id</th>\n",
       "      <th>loan_amnt</th>\n",
       "      <th>funded_amnt</th>\n",
       "      <th>funded_amnt_inv</th>\n",
       "      <th>term</th>\n",
       "      <th>int_rate</th>\n",
       "      <th>installment</th>\n",
       "      <th>grade</th>\n",
       "      <th>sub_grade</th>\n",
       "      <th>...</th>\n",
       "      <th>hardship_payoff_balance_amount</th>\n",
       "      <th>hardship_last_payment_amount</th>\n",
       "      <th>disbursement_method</th>\n",
       "      <th>debt_settlement_flag</th>\n",
       "      <th>debt_settlement_flag_date</th>\n",
       "      <th>settlement_status</th>\n",
       "      <th>settlement_date</th>\n",
       "      <th>settlement_amount</th>\n",
       "      <th>settlement_percentage</th>\n",
       "      <th>settlement_term</th>\n",
       "    </tr>\n",
       "  </thead>\n",
       "  <tbody>\n",
       "    <tr>\n",
       "      <th>0</th>\n",
       "      <td>68407277</td>\n",
       "      <td>NaN</td>\n",
       "      <td>3600.0</td>\n",
       "      <td>3600.0</td>\n",
       "      <td>3600.0</td>\n",
       "      <td>36 months</td>\n",
       "      <td>13.99</td>\n",
       "      <td>123.03</td>\n",
       "      <td>C</td>\n",
       "      <td>C4</td>\n",
       "      <td>...</td>\n",
       "      <td>NaN</td>\n",
       "      <td>NaN</td>\n",
       "      <td>Cash</td>\n",
       "      <td>N</td>\n",
       "      <td>NaN</td>\n",
       "      <td>NaN</td>\n",
       "      <td>NaN</td>\n",
       "      <td>NaN</td>\n",
       "      <td>NaN</td>\n",
       "      <td>NaN</td>\n",
       "    </tr>\n",
       "    <tr>\n",
       "      <th>1</th>\n",
       "      <td>68355089</td>\n",
       "      <td>NaN</td>\n",
       "      <td>24700.0</td>\n",
       "      <td>24700.0</td>\n",
       "      <td>24700.0</td>\n",
       "      <td>36 months</td>\n",
       "      <td>11.99</td>\n",
       "      <td>820.28</td>\n",
       "      <td>C</td>\n",
       "      <td>C1</td>\n",
       "      <td>...</td>\n",
       "      <td>NaN</td>\n",
       "      <td>NaN</td>\n",
       "      <td>Cash</td>\n",
       "      <td>N</td>\n",
       "      <td>NaN</td>\n",
       "      <td>NaN</td>\n",
       "      <td>NaN</td>\n",
       "      <td>NaN</td>\n",
       "      <td>NaN</td>\n",
       "      <td>NaN</td>\n",
       "    </tr>\n",
       "    <tr>\n",
       "      <th>2</th>\n",
       "      <td>68341763</td>\n",
       "      <td>NaN</td>\n",
       "      <td>20000.0</td>\n",
       "      <td>20000.0</td>\n",
       "      <td>20000.0</td>\n",
       "      <td>60 months</td>\n",
       "      <td>10.78</td>\n",
       "      <td>432.66</td>\n",
       "      <td>B</td>\n",
       "      <td>B4</td>\n",
       "      <td>...</td>\n",
       "      <td>NaN</td>\n",
       "      <td>NaN</td>\n",
       "      <td>Cash</td>\n",
       "      <td>N</td>\n",
       "      <td>NaN</td>\n",
       "      <td>NaN</td>\n",
       "      <td>NaN</td>\n",
       "      <td>NaN</td>\n",
       "      <td>NaN</td>\n",
       "      <td>NaN</td>\n",
       "    </tr>\n",
       "    <tr>\n",
       "      <th>3</th>\n",
       "      <td>66310712</td>\n",
       "      <td>NaN</td>\n",
       "      <td>35000.0</td>\n",
       "      <td>35000.0</td>\n",
       "      <td>35000.0</td>\n",
       "      <td>60 months</td>\n",
       "      <td>14.85</td>\n",
       "      <td>829.90</td>\n",
       "      <td>C</td>\n",
       "      <td>C5</td>\n",
       "      <td>...</td>\n",
       "      <td>NaN</td>\n",
       "      <td>NaN</td>\n",
       "      <td>Cash</td>\n",
       "      <td>N</td>\n",
       "      <td>NaN</td>\n",
       "      <td>NaN</td>\n",
       "      <td>NaN</td>\n",
       "      <td>NaN</td>\n",
       "      <td>NaN</td>\n",
       "      <td>NaN</td>\n",
       "    </tr>\n",
       "    <tr>\n",
       "      <th>4</th>\n",
       "      <td>68476807</td>\n",
       "      <td>NaN</td>\n",
       "      <td>10400.0</td>\n",
       "      <td>10400.0</td>\n",
       "      <td>10400.0</td>\n",
       "      <td>60 months</td>\n",
       "      <td>22.45</td>\n",
       "      <td>289.91</td>\n",
       "      <td>F</td>\n",
       "      <td>F1</td>\n",
       "      <td>...</td>\n",
       "      <td>NaN</td>\n",
       "      <td>NaN</td>\n",
       "      <td>Cash</td>\n",
       "      <td>N</td>\n",
       "      <td>NaN</td>\n",
       "      <td>NaN</td>\n",
       "      <td>NaN</td>\n",
       "      <td>NaN</td>\n",
       "      <td>NaN</td>\n",
       "      <td>NaN</td>\n",
       "    </tr>\n",
       "    <tr>\n",
       "      <th>...</th>\n",
       "      <td>...</td>\n",
       "      <td>...</td>\n",
       "      <td>...</td>\n",
       "      <td>...</td>\n",
       "      <td>...</td>\n",
       "      <td>...</td>\n",
       "      <td>...</td>\n",
       "      <td>...</td>\n",
       "      <td>...</td>\n",
       "      <td>...</td>\n",
       "      <td>...</td>\n",
       "      <td>...</td>\n",
       "      <td>...</td>\n",
       "      <td>...</td>\n",
       "      <td>...</td>\n",
       "      <td>...</td>\n",
       "      <td>...</td>\n",
       "      <td>...</td>\n",
       "      <td>...</td>\n",
       "      <td>...</td>\n",
       "      <td>...</td>\n",
       "    </tr>\n",
       "    <tr>\n",
       "      <th>2260696</th>\n",
       "      <td>88985880</td>\n",
       "      <td>NaN</td>\n",
       "      <td>40000.0</td>\n",
       "      <td>40000.0</td>\n",
       "      <td>40000.0</td>\n",
       "      <td>60 months</td>\n",
       "      <td>10.49</td>\n",
       "      <td>859.56</td>\n",
       "      <td>B</td>\n",
       "      <td>B3</td>\n",
       "      <td>...</td>\n",
       "      <td>NaN</td>\n",
       "      <td>NaN</td>\n",
       "      <td>Cash</td>\n",
       "      <td>N</td>\n",
       "      <td>NaN</td>\n",
       "      <td>NaN</td>\n",
       "      <td>NaN</td>\n",
       "      <td>NaN</td>\n",
       "      <td>NaN</td>\n",
       "      <td>NaN</td>\n",
       "    </tr>\n",
       "    <tr>\n",
       "      <th>2260697</th>\n",
       "      <td>88224441</td>\n",
       "      <td>NaN</td>\n",
       "      <td>24000.0</td>\n",
       "      <td>24000.0</td>\n",
       "      <td>24000.0</td>\n",
       "      <td>60 months</td>\n",
       "      <td>14.49</td>\n",
       "      <td>564.56</td>\n",
       "      <td>C</td>\n",
       "      <td>C4</td>\n",
       "      <td>...</td>\n",
       "      <td>NaN</td>\n",
       "      <td>NaN</td>\n",
       "      <td>Cash</td>\n",
       "      <td>Y</td>\n",
       "      <td>Mar-2019</td>\n",
       "      <td>ACTIVE</td>\n",
       "      <td>Mar-2019</td>\n",
       "      <td>10000.0</td>\n",
       "      <td>44.82</td>\n",
       "      <td>1.0</td>\n",
       "    </tr>\n",
       "    <tr>\n",
       "      <th>2260698</th>\n",
       "      <td>88215728</td>\n",
       "      <td>NaN</td>\n",
       "      <td>14000.0</td>\n",
       "      <td>14000.0</td>\n",
       "      <td>14000.0</td>\n",
       "      <td>60 months</td>\n",
       "      <td>14.49</td>\n",
       "      <td>329.33</td>\n",
       "      <td>C</td>\n",
       "      <td>C4</td>\n",
       "      <td>...</td>\n",
       "      <td>NaN</td>\n",
       "      <td>NaN</td>\n",
       "      <td>Cash</td>\n",
       "      <td>N</td>\n",
       "      <td>NaN</td>\n",
       "      <td>NaN</td>\n",
       "      <td>NaN</td>\n",
       "      <td>NaN</td>\n",
       "      <td>NaN</td>\n",
       "      <td>NaN</td>\n",
       "    </tr>\n",
       "    <tr>\n",
       "      <th>2260699</th>\n",
       "      <td>Total amount funded in policy code 1: 1465324575</td>\n",
       "      <td>NaN</td>\n",
       "      <td>NaN</td>\n",
       "      <td>NaN</td>\n",
       "      <td>NaN</td>\n",
       "      <td>NaN</td>\n",
       "      <td>NaN</td>\n",
       "      <td>NaN</td>\n",
       "      <td>NaN</td>\n",
       "      <td>NaN</td>\n",
       "      <td>...</td>\n",
       "      <td>NaN</td>\n",
       "      <td>NaN</td>\n",
       "      <td>NaN</td>\n",
       "      <td>NaN</td>\n",
       "      <td>NaN</td>\n",
       "      <td>NaN</td>\n",
       "      <td>NaN</td>\n",
       "      <td>NaN</td>\n",
       "      <td>NaN</td>\n",
       "      <td>NaN</td>\n",
       "    </tr>\n",
       "    <tr>\n",
       "      <th>2260700</th>\n",
       "      <td>Total amount funded in policy code 2: 521953170</td>\n",
       "      <td>NaN</td>\n",
       "      <td>NaN</td>\n",
       "      <td>NaN</td>\n",
       "      <td>NaN</td>\n",
       "      <td>NaN</td>\n",
       "      <td>NaN</td>\n",
       "      <td>NaN</td>\n",
       "      <td>NaN</td>\n",
       "      <td>NaN</td>\n",
       "      <td>...</td>\n",
       "      <td>NaN</td>\n",
       "      <td>NaN</td>\n",
       "      <td>NaN</td>\n",
       "      <td>NaN</td>\n",
       "      <td>NaN</td>\n",
       "      <td>NaN</td>\n",
       "      <td>NaN</td>\n",
       "      <td>NaN</td>\n",
       "      <td>NaN</td>\n",
       "      <td>NaN</td>\n",
       "    </tr>\n",
       "  </tbody>\n",
       "</table>\n",
       "<p>2260701 rows × 151 columns</p>\n",
       "</div>"
      ],
      "text/plain": [
       "                                                       id  member_id  \\\n",
       "0                                                68407277        NaN   \n",
       "1                                                68355089        NaN   \n",
       "2                                                68341763        NaN   \n",
       "3                                                66310712        NaN   \n",
       "4                                                68476807        NaN   \n",
       "...                                                   ...        ...   \n",
       "2260696                                          88985880        NaN   \n",
       "2260697                                          88224441        NaN   \n",
       "2260698                                          88215728        NaN   \n",
       "2260699  Total amount funded in policy code 1: 1465324575        NaN   \n",
       "2260700   Total amount funded in policy code 2: 521953170        NaN   \n",
       "\n",
       "         loan_amnt  funded_amnt  funded_amnt_inv        term  int_rate  \\\n",
       "0           3600.0       3600.0           3600.0   36 months     13.99   \n",
       "1          24700.0      24700.0          24700.0   36 months     11.99   \n",
       "2          20000.0      20000.0          20000.0   60 months     10.78   \n",
       "3          35000.0      35000.0          35000.0   60 months     14.85   \n",
       "4          10400.0      10400.0          10400.0   60 months     22.45   \n",
       "...            ...          ...              ...         ...       ...   \n",
       "2260696    40000.0      40000.0          40000.0   60 months     10.49   \n",
       "2260697    24000.0      24000.0          24000.0   60 months     14.49   \n",
       "2260698    14000.0      14000.0          14000.0   60 months     14.49   \n",
       "2260699        NaN          NaN              NaN         NaN       NaN   \n",
       "2260700        NaN          NaN              NaN         NaN       NaN   \n",
       "\n",
       "         installment grade sub_grade  ... hardship_payoff_balance_amount  \\\n",
       "0             123.03     C        C4  ...                            NaN   \n",
       "1             820.28     C        C1  ...                            NaN   \n",
       "2             432.66     B        B4  ...                            NaN   \n",
       "3             829.90     C        C5  ...                            NaN   \n",
       "4             289.91     F        F1  ...                            NaN   \n",
       "...              ...   ...       ...  ...                            ...   \n",
       "2260696       859.56     B        B3  ...                            NaN   \n",
       "2260697       564.56     C        C4  ...                            NaN   \n",
       "2260698       329.33     C        C4  ...                            NaN   \n",
       "2260699          NaN   NaN       NaN  ...                            NaN   \n",
       "2260700          NaN   NaN       NaN  ...                            NaN   \n",
       "\n",
       "        hardship_last_payment_amount disbursement_method  \\\n",
       "0                                NaN                Cash   \n",
       "1                                NaN                Cash   \n",
       "2                                NaN                Cash   \n",
       "3                                NaN                Cash   \n",
       "4                                NaN                Cash   \n",
       "...                              ...                 ...   \n",
       "2260696                          NaN                Cash   \n",
       "2260697                          NaN                Cash   \n",
       "2260698                          NaN                Cash   \n",
       "2260699                          NaN                 NaN   \n",
       "2260700                          NaN                 NaN   \n",
       "\n",
       "         debt_settlement_flag debt_settlement_flag_date settlement_status  \\\n",
       "0                           N                       NaN               NaN   \n",
       "1                           N                       NaN               NaN   \n",
       "2                           N                       NaN               NaN   \n",
       "3                           N                       NaN               NaN   \n",
       "4                           N                       NaN               NaN   \n",
       "...                       ...                       ...               ...   \n",
       "2260696                     N                       NaN               NaN   \n",
       "2260697                     Y                  Mar-2019            ACTIVE   \n",
       "2260698                     N                       NaN               NaN   \n",
       "2260699                   NaN                       NaN               NaN   \n",
       "2260700                   NaN                       NaN               NaN   \n",
       "\n",
       "        settlement_date settlement_amount settlement_percentage  \\\n",
       "0                   NaN               NaN                   NaN   \n",
       "1                   NaN               NaN                   NaN   \n",
       "2                   NaN               NaN                   NaN   \n",
       "3                   NaN               NaN                   NaN   \n",
       "4                   NaN               NaN                   NaN   \n",
       "...                 ...               ...                   ...   \n",
       "2260696             NaN               NaN                   NaN   \n",
       "2260697        Mar-2019           10000.0                 44.82   \n",
       "2260698             NaN               NaN                   NaN   \n",
       "2260699             NaN               NaN                   NaN   \n",
       "2260700             NaN               NaN                   NaN   \n",
       "\n",
       "        settlement_term  \n",
       "0                   NaN  \n",
       "1                   NaN  \n",
       "2                   NaN  \n",
       "3                   NaN  \n",
       "4                   NaN  \n",
       "...                 ...  \n",
       "2260696             NaN  \n",
       "2260697             1.0  \n",
       "2260698             NaN  \n",
       "2260699             NaN  \n",
       "2260700             NaN  \n",
       "\n",
       "[2260701 rows x 151 columns]"
      ]
     },
     "execution_count": 3,
     "metadata": {},
     "output_type": "execute_result"
    }
   ],
   "source": [
    "df = pd.read_csv('accepted_2007_to_2018Q4.csv')\n",
    "df"
   ]
  },
  {
   "cell_type": "code",
   "execution_count": 4,
   "metadata": {},
   "outputs": [
    {
     "data": {
      "text/plain": [
       "(2260701, 151)"
      ]
     },
     "execution_count": 4,
     "metadata": {},
     "output_type": "execute_result"
    }
   ],
   "source": [
    "df.shape # original data has 2260701 rows and 151 columns"
   ]
  },
  {
   "cell_type": "code",
   "execution_count": 5,
   "metadata": {},
   "outputs": [
    {
     "data": {
      "text/plain": [
       "array(['Fully Paid', 'Current', 'Charged Off', 'In Grace Period',\n",
       "       'Late (31-120 days)', 'Late (16-30 days)', 'Default', nan,\n",
       "       'Does not meet the credit policy. Status:Fully Paid',\n",
       "       'Does not meet the credit policy. Status:Charged Off'],\n",
       "      dtype=object)"
      ]
     },
     "execution_count": 5,
     "metadata": {},
     "output_type": "execute_result"
    }
   ],
   "source": [
    "df['loan_status'].unique() # Values that the target variable takes"
   ]
  },
  {
   "cell_type": "code",
   "execution_count": 6,
   "metadata": {},
   "outputs": [
    {
     "data": {
      "text/plain": [
       "Fully Paid                                             1076751\n",
       "Current                                                 878317\n",
       "Charged Off                                             268559\n",
       "Late (31-120 days)                                       21467\n",
       "In Grace Period                                           8436\n",
       "Late (16-30 days)                                         4349\n",
       "Does not meet the credit policy. Status:Fully Paid        1988\n",
       "Does not meet the credit policy. Status:Charged Off        761\n",
       "Default                                                     40\n",
       "NaN                                                         33\n",
       "Name: loan_status, dtype: int64"
      ]
     },
     "execution_count": 6,
     "metadata": {},
     "output_type": "execute_result"
    }
   ],
   "source": [
    "df['loan_status'].value_counts(dropna = False)"
   ]
  },
  {
   "cell_type": "code",
   "execution_count": 7,
   "metadata": {},
   "outputs": [
    {
     "data": {
      "text/plain": [
       "Text(0.5, 1.0, '0/1 distribution')"
      ]
     },
     "execution_count": 7,
     "metadata": {},
     "output_type": "execute_result"
    },
    {
     "data": {
      "image/png": "[encoded data removed]",
      "text/plain": [
       "<Figure size 432x288 with 1 Axes>"
      ]
     },
     "metadata": {},
     "output_type": "display_data"
    }
   ],
   "source": [
    "paid = df[df['loan_status'] == 'Fully Paid']  # keep only Fully Paid and Charged Off status for a binary classification\n",
    "chargedoff = df[df['loan_status'] == 'Charged Off']\n",
    "plt.pie(np.array([paid.shape[0],chargedoff.shape[0]]), labels = ['Fully Paid (0)', 'Charged Off (1)'])\n",
    "plt.title('0/1 distribution')          # See the prior distribution of the two classes. We can see that the data is unbalanced."
   ]
  },
  {
   "cell_type": "code",
   "execution_count": 8,
   "metadata": {},
   "outputs": [],
   "source": [
    "df['Charged Off'] = (df['loan_status'] == 'Charged Off').astype(int) # convert into 0/1 problem\n",
    "df = df.drop('loan_status', axis = 1) # drop the original column\n",
    "dropedna = df.dropna(axis = 1, thresh = int(df.shape[0] * 0.8)) #df.shape[0] * 0.8 keep columns with 80% non-NA values."
   ]
  },
  {
   "cell_type": "code",
   "execution_count": 9,
   "metadata": {},
   "outputs": [
    {
     "data": {
      "text/plain": [
       "(2260701, 93)"
      ]
     },
     "execution_count": 9,
     "metadata": {},
     "output_type": "execute_result"
    }
   ],
   "source": [
    "dropedna.shape  "
   ]
  },
  {
   "cell_type": "code",
   "execution_count": 10,
   "metadata": {},
   "outputs": [
    {
     "data": {
      "text/plain": [
       "<matplotlib.axes._subplots.AxesSubplot at 0x134984edb48>"
      ]
     },
     "execution_count": 10,
     "metadata": {},
     "output_type": "execute_result"
    },
    {
     "data": {
      "image/png": "[encoded data removed]",
      "text/plain": [
       "<Figure size 432x288 with 2 Axes>"
      ]
     },
     "metadata": {
      "needs_background": "light"
     },
     "output_type": "display_data"
    }
   ],
   "source": [
    "corr = dropedna.corr()\n",
    "sns.heatmap(corr) # correlation heatmap"
   ]
  },
  {
   "cell_type": "code",
   "execution_count": 9,
   "metadata": {},
   "outputs": [],
   "source": [
    "keep_list = ['Charged Off','funded_amnt','addr_state', 'annual_inc', \\\n",
    "'application_type','dti', 'earliest_cr_line', 'emp_length',\\\n",
    "'emp_title', 'fico_range_high',\\\n",
    "'fico_range_low', 'grade', 'home_ownership', 'id', 'initial_list_status', \\\n",
    "'installment', 'int_rate', 'loan_amnt', \\\n",
    "'mort_acc', 'open_acc', 'pub_rec', 'pub_rec_bankruptcies', \\\n",
    "'purpose', 'revol_bal', 'revol_util', \\\n",
    "'sub_grade', 'term', 'title', 'total_acc',\\\n",
    "'verification_status', 'zip_code','last_pymnt_amnt',\\\n",
    "'num_actv_rev_tl', 'mo_sin_rcnt_rev_tl_op',\\\n",
    "'mo_sin_old_rev_tl_op',\"bc_util\",\"bc_open_to_buy\",\\\n",
    "\"avg_cur_bal\",\"acc_open_past_24mths\" ]\n",
    "# Columns to keep based on intuitiveness, rather broad because other tests will be conducted as well."
   ]
  },
  {
   "cell_type": "code",
   "execution_count": 10,
   "metadata": {},
   "outputs": [
    {
     "data": {
      "text/plain": [
       "<matplotlib.axes._subplots.AxesSubplot at 0x27c960cb708>"
      ]
     },
     "execution_count": 10,
     "metadata": {},
     "output_type": "execute_result"
    },
    {
     "data": {
      "image/png": "[encoded data removed]",
      "text/plain": [
       "<Figure size 432x288 with 2 Axes>"
      ]
     },
     "metadata": {
      "needs_background": "light"
     },
     "output_type": "display_data"
    }
   ],
   "source": [
    "df2 = dropedna[keep_list]\n",
    "sns.heatmap(df2.corr())"
   ]
  },
  {
   "cell_type": "code",
   "execution_count": 11,
   "metadata": {},
   "outputs": [
    {
     "data": {
      "text/plain": [
       "Index(['total_acc', 'open_acc'], dtype='object')"
      ]
     },
     "execution_count": 11,
     "metadata": {},
     "output_type": "execute_result"
    }
   ],
   "source": [
    "todrop = df2.corr()['Charged Off'].abs().sort_values(ascending = True)[0:2].index # find the 2 least correlated features.\n",
    "todrop"
   ]
  },
  {
   "cell_type": "code",
   "execution_count": 12,
   "metadata": {},
   "outputs": [],
   "source": [
    "df2 = df2.drop(todrop, axis = 1) # drop the 2 least correlated features."
   ]
  },
  {
   "cell_type": "code",
   "execution_count": 13,
   "metadata": {},
   "outputs": [
    {
     "data": {
      "text/plain": [
       "array(['addr_state', 'application_type', 'earliest_cr_line', 'emp_length',\n",
       "       'emp_title', 'grade', 'home_ownership', 'id',\n",
       "       'initial_list_status', 'purpose', 'sub_grade', 'term', 'title',\n",
       "       'verification_status', 'zip_code'], dtype=object)"
      ]
     },
     "execution_count": 13,
     "metadata": {},
     "output_type": "execute_result"
    }
   ],
   "source": [
    "categorical = np.array(df2.select_dtypes(include = 'object').columns)  # find categorical data\n",
    "categorical"
   ]
  },
  {
   "cell_type": "code",
   "execution_count": 16,
   "metadata": {},
   "outputs": [
    {
     "data": {
      "text/plain": [
       "Charged Off                   0\n",
       "funded_amnt                  33\n",
       "addr_state                   33\n",
       "annual_inc                   37\n",
       "application_type             33\n",
       "dti                        1744\n",
       "earliest_cr_line             62\n",
       "emp_length               146940\n",
       "emp_title                167002\n",
       "fico_range_high              33\n",
       "fico_range_low               33\n",
       "grade                        33\n",
       "home_ownership               33\n",
       "id                            0\n",
       "initial_list_status          33\n",
       "installment                  33\n",
       "int_rate                     33\n",
       "loan_amnt                    33\n",
       "mort_acc                  50063\n",
       "pub_rec                      62\n",
       "pub_rec_bankruptcies       1398\n",
       "purpose                      33\n",
       "revol_bal                    33\n",
       "revol_util                 1835\n",
       "sub_grade                    33\n",
       "term                         33\n",
       "title                     23358\n",
       "verification_status          33\n",
       "zip_code                     34\n",
       "last_pymnt_amnt              33\n",
       "num_actv_rev_tl           70309\n",
       "mo_sin_rcnt_rev_tl_op     70310\n",
       "mo_sin_old_rev_tl_op      70310\n",
       "bc_util                   76104\n",
       "bc_open_to_buy            74968\n",
       "avg_cur_bal               70379\n",
       "acc_open_past_24mths      50063\n",
       "dtype: int64"
      ]
     },
     "execution_count": 16,
     "metadata": {},
     "output_type": "execute_result"
    }
   ],
   "source": [
    "df2.isnull().sum() # see the null valued columns"
   ]
  },
  {
   "cell_type": "code",
   "execution_count": 15,
   "metadata": {},
   "outputs": [
    {
     "data": {
      "text/html": [
       "<div>\n",
       "<style scoped>\n",
       "    .dataframe tbody tr th:only-of-type {\n",
       "        vertical-align: middle;\n",
       "    }\n",
       "\n",
       "    .dataframe tbody tr th {\n",
       "        vertical-align: top;\n",
       "    }\n",
       "\n",
       "    .dataframe thead th {\n",
       "        text-align: right;\n",
       "    }\n",
       "</style>\n",
       "<table border=\"1\" class=\"dataframe\">\n",
       "  <thead>\n",
       "    <tr style=\"text-align: right;\">\n",
       "      <th></th>\n",
       "      <th>addr_state</th>\n",
       "      <th>application_type</th>\n",
       "      <th>earliest_cr_line</th>\n",
       "      <th>emp_length</th>\n",
       "      <th>emp_title</th>\n",
       "      <th>grade</th>\n",
       "      <th>home_ownership</th>\n",
       "      <th>id</th>\n",
       "      <th>initial_list_status</th>\n",
       "      <th>purpose</th>\n",
       "      <th>sub_grade</th>\n",
       "      <th>term</th>\n",
       "      <th>title</th>\n",
       "      <th>verification_status</th>\n",
       "      <th>zip_code</th>\n",
       "    </tr>\n",
       "  </thead>\n",
       "  <tbody>\n",
       "    <tr>\n",
       "      <th>count</th>\n",
       "      <td>2260668</td>\n",
       "      <td>2260668</td>\n",
       "      <td>2260639</td>\n",
       "      <td>2113761</td>\n",
       "      <td>2093699</td>\n",
       "      <td>2260668</td>\n",
       "      <td>2260668</td>\n",
       "      <td>2260701</td>\n",
       "      <td>2260668</td>\n",
       "      <td>2260668</td>\n",
       "      <td>2260668</td>\n",
       "      <td>2260668</td>\n",
       "      <td>2237343</td>\n",
       "      <td>2260668</td>\n",
       "      <td>2260667</td>\n",
       "    </tr>\n",
       "    <tr>\n",
       "      <th>unique</th>\n",
       "      <td>51</td>\n",
       "      <td>2</td>\n",
       "      <td>754</td>\n",
       "      <td>11</td>\n",
       "      <td>512694</td>\n",
       "      <td>7</td>\n",
       "      <td>6</td>\n",
       "      <td>2260701</td>\n",
       "      <td>2</td>\n",
       "      <td>14</td>\n",
       "      <td>35</td>\n",
       "      <td>2</td>\n",
       "      <td>63155</td>\n",
       "      <td>3</td>\n",
       "      <td>956</td>\n",
       "    </tr>\n",
       "    <tr>\n",
       "      <th>top</th>\n",
       "      <td>CA</td>\n",
       "      <td>Individual</td>\n",
       "      <td>Sep-2004</td>\n",
       "      <td>10+ years</td>\n",
       "      <td>Teacher</td>\n",
       "      <td>B</td>\n",
       "      <td>MORTGAGE</td>\n",
       "      <td>75497472</td>\n",
       "      <td>w</td>\n",
       "      <td>debt_consolidation</td>\n",
       "      <td>C1</td>\n",
       "      <td>36 months</td>\n",
       "      <td>Debt consolidation</td>\n",
       "      <td>Source Verified</td>\n",
       "      <td>112xx</td>\n",
       "    </tr>\n",
       "    <tr>\n",
       "      <th>freq</th>\n",
       "      <td>314533</td>\n",
       "      <td>2139958</td>\n",
       "      <td>15400</td>\n",
       "      <td>748005</td>\n",
       "      <td>38824</td>\n",
       "      <td>663557</td>\n",
       "      <td>1111450</td>\n",
       "      <td>1</td>\n",
       "      <td>1535467</td>\n",
       "      <td>1277877</td>\n",
       "      <td>145903</td>\n",
       "      <td>1609754</td>\n",
       "      <td>1153293</td>\n",
       "      <td>886231</td>\n",
       "      <td>23908</td>\n",
       "    </tr>\n",
       "  </tbody>\n",
       "</table>\n",
       "</div>"
      ],
      "text/plain": [
       "       addr_state application_type earliest_cr_line emp_length emp_title  \\\n",
       "count     2260668          2260668          2260639    2113761   2093699   \n",
       "unique         51                2              754         11    512694   \n",
       "top            CA       Individual         Sep-2004  10+ years   Teacher   \n",
       "freq       314533          2139958            15400     748005     38824   \n",
       "\n",
       "          grade home_ownership        id initial_list_status  \\\n",
       "count   2260668        2260668   2260701             2260668   \n",
       "unique        7              6   2260701                   2   \n",
       "top           B       MORTGAGE  75497472                   w   \n",
       "freq     663557        1111450         1             1535467   \n",
       "\n",
       "                   purpose sub_grade        term               title  \\\n",
       "count              2260668   2260668     2260668             2237343   \n",
       "unique                  14        35           2               63155   \n",
       "top     debt_consolidation        C1   36 months  Debt consolidation   \n",
       "freq               1277877    145903     1609754             1153293   \n",
       "\n",
       "       verification_status zip_code  \n",
       "count              2260668  2260667  \n",
       "unique                   3      956  \n",
       "top        Source Verified    112xx  \n",
       "freq                886231    23908  "
      ]
     },
     "execution_count": 15,
     "metadata": {},
     "output_type": "execute_result"
    }
   ],
   "source": [
    "df2[categorical].describe()"
   ]
  },
  {
   "cell_type": "code",
   "execution_count": null,
   "metadata": {},
   "outputs": [],
   "source": [
    "# categorical_drop = ['addr_state', 'application_type', 'earliest_cr_line',   # original\n",
    "#        'emp_title', 'home_ownership', 'id',\n",
    "#        'initial_list_status', 'purpose', 'title',\n",
    "#        'verification_status', 'zip_code']"
   ]
  },
  {
   "cell_type": "code",
   "execution_count": 14,
   "metadata": {},
   "outputs": [],
   "source": [
    "categorical_drop = ['addr_state', 'application_type', 'earliest_cr_line',\n",
    "       'emp_title',  'id',\n",
    "       'initial_list_status',  'title',\n",
    "        'zip_code']\n",
    "# zip code and addr_state have too many categorical values and is not relevant\n",
    "# emp_title and title can be represente by salary.\n",
    "# id is irrelevant"
   ]
  },
  {
   "cell_type": "code",
   "execution_count": 15,
   "metadata": {},
   "outputs": [],
   "source": [
    "df2 = df2.drop(categorical_drop, axis = 1)"
   ]
  },
  {
   "cell_type": "code",
   "execution_count": 16,
   "metadata": {},
   "outputs": [],
   "source": [
    "df2['term'] = df2['term'].str[1:3] # e.g. 36 months ---> 36\n",
    "df2['term'] = df2['term'].fillna(df2['term'].mode()[0]) # fill na values with the mode.\n",
    "df2['emp_length'] = df['emp_length'].str[:2] # e.g. 10 years ---> 10"
   ]
  },
  {
   "cell_type": "code",
   "execution_count": 17,
   "metadata": {},
   "outputs": [
    {
     "data": {
      "text/plain": [
       "array(['10', '3 ', '4 ', '6 ', '1 ', '7 ', '8 ', '5 ', '2 ', '9 ', '< ',\n",
       "       nan], dtype=object)"
      ]
     },
     "execution_count": 17,
     "metadata": {},
     "output_type": "execute_result"
    }
   ],
   "source": [
    "df2['emp_length'].unique()      # Unique values for the employment length feature"
   ]
  },
  {
   "cell_type": "code",
   "execution_count": 18,
   "metadata": {},
   "outputs": [],
   "source": [
    "df2['term'] = df2['term'].astype('int32')        # change dtype from object to int32\n",
    "df2['emp_length'] = df2['emp_length'].replace({'< ': 0})       # replace string < with 0\n",
    "df2['emp_length'] = df2['emp_length'].astype('float64')  # change dtype from object to float\n",
    "df2['emp_length'] = df2['emp_length'].fillna(df2['emp_length'].notnull().mean()) # fill null values with mean"
   ]
  },
  {
   "cell_type": "code",
   "execution_count": 22,
   "metadata": {},
   "outputs": [
    {
     "name": "stdout",
     "output_type": "stream",
     "text": [
      "<class 'pandas.core.frame.DataFrame'>\n",
      "RangeIndex: 2260701 entries, 0 to 2260700\n",
      "Data columns (total 29 columns):\n",
      " #   Column                 Dtype  \n",
      "---  ------                 -----  \n",
      " 0   Charged Off            int32  \n",
      " 1   funded_amnt            float64\n",
      " 2   annual_inc             float64\n",
      " 3   dti                    float64\n",
      " 4   emp_length             float64\n",
      " 5   fico_range_high        float64\n",
      " 6   fico_range_low         float64\n",
      " 7   grade                  object \n",
      " 8   home_ownership         object \n",
      " 9   installment            float64\n",
      " 10  int_rate               float64\n",
      " 11  loan_amnt              float64\n",
      " 12  mort_acc               float64\n",
      " 13  pub_rec                float64\n",
      " 14  pub_rec_bankruptcies   float64\n",
      " 15  purpose                object \n",
      " 16  revol_bal              float64\n",
      " 17  revol_util             float64\n",
      " 18  sub_grade              object \n",
      " 19  term                   int32  \n",
      " 20  verification_status    object \n",
      " 21  last_pymnt_amnt        float64\n",
      " 22  num_actv_rev_tl        float64\n",
      " 23  mo_sin_rcnt_rev_tl_op  float64\n",
      " 24  mo_sin_old_rev_tl_op   float64\n",
      " 25  bc_util                float64\n",
      " 26  bc_open_to_buy         float64\n",
      " 27  avg_cur_bal            float64\n",
      " 28  acc_open_past_24mths   float64\n",
      "dtypes: float64(22), int32(2), object(5)\n",
      "memory usage: 482.9+ MB\n"
     ]
    }
   ],
   "source": [
    "df2.info()"
   ]
  },
  {
   "cell_type": "code",
   "execution_count": 22,
   "metadata": {},
   "outputs": [
    {
     "data": {
      "text/plain": [
       "B    0.293523\n",
       "C    0.287549\n",
       "A    0.191548\n",
       "D    0.143508\n",
       "E    0.060000\n",
       "F    0.018490\n",
       "G    0.005382\n",
       "Name: grade, dtype: float64"
      ]
     },
     "execution_count": 22,
     "metadata": {},
     "output_type": "execute_result"
    }
   ],
   "source": [
    "df2['grade'].value_counts(normalize = True)"
   ]
  },
  {
   "cell_type": "code",
   "execution_count": 23,
   "metadata": {},
   "outputs": [
    {
     "data": {
      "text/plain": [
       "<matplotlib.axes._subplots.AxesSubplot at 0x1347e5bd2c8>"
      ]
     },
     "execution_count": 23,
     "metadata": {},
     "output_type": "execute_result"
    },
    {
     "data": {
      "image/png": "[encoded data removed]",
      "text/plain": [
       "<Figure size 432x288 with 1 Axes>"
      ]
     },
     "metadata": {
      "needs_background": "light"
     },
     "output_type": "display_data"
    }
   ],
   "source": [
    "# Dependence between the grade of the loan and the amount of charged off loans.\n",
    "\n",
    "charge_off_rates = df2.groupby('grade')['Charged Off'].value_counts(normalize=True).loc[:,1]\n",
    "sns.barplot(x=charge_off_rates.index, y=charge_off_rates.values)"
   ]
  },
  {
   "cell_type": "code",
   "execution_count": 24,
   "metadata": {},
   "outputs": [
    {
     "data": {
      "text/plain": [
       "<matplotlib.axes._subplots.AxesSubplot at 0x134984f4748>"
      ]
     },
     "execution_count": 24,
     "metadata": {},
     "output_type": "execute_result"
    },
    {
     "data": {
      "image/png": "[encoded data removed]",
      "text/plain": [
       "<Figure size 432x288 with 1 Axes>"
      ]
     },
     "metadata": {
      "needs_background": "light"
     },
     "output_type": "display_data"
    }
   ],
   "source": [
    "# Dependence between the sub grade of the loan and the amount of charged off loans.\n",
    "charge_off_rates = df2.groupby('sub_grade')['Charged Off'].value_counts(normalize=True).loc[:,1]\n",
    "sns.barplot(x=charge_off_rates.index, y=charge_off_rates.values)"
   ]
  },
  {
   "cell_type": "code",
   "execution_count": null,
   "metadata": {},
   "outputs": [],
   "source": [
    "# We can see that the grade and sub_grade have the same effect and correlation with the target, hence we an drop one of them\n"
   ]
  },
  {
   "cell_type": "code",
   "execution_count": 19,
   "metadata": {},
   "outputs": [],
   "source": [
    "df2 = df2.drop('grade', axis = 1) # drop grade because, sub_grade containts more groups and can add more information."
   ]
  },
  {
   "cell_type": "code",
   "execution_count": 20,
   "metadata": {},
   "outputs": [],
   "source": [
    "df2['annual_inc'] = df2['annual_inc'].fillna(df2['annual_inc'].median())   # fill null values with median because range\n",
    "                                                                           #of values is too high and there are many outliers.\n",
    "df2['funded_amnt'] = df2['funded_amnt'].fillna(df2['funded_amnt'].mean())  # fill null values with mean\n",
    "df2['dti'] = df2['dti'].fillna(df2['dti'].mean()) #A ratio calculated using the borrower’s total monthly debt payments on the total debt obligations, excluding mortgage and the requested LC loan, divided by the borrower’s self-reported monthly income.\n",
    "df2['installment'] = df2['installment'].fillna(df2['installment'].mean())   # fill null values with mean\n",
    "\n"
   ]
  },
  {
   "cell_type": "code",
   "execution_count": 21,
   "metadata": {},
   "outputs": [
    {
     "data": {
      "text/html": [
       "<div>\n",
       "<style scoped>\n",
       "    .dataframe tbody tr th:only-of-type {\n",
       "        vertical-align: middle;\n",
       "    }\n",
       "\n",
       "    .dataframe tbody tr th {\n",
       "        vertical-align: top;\n",
       "    }\n",
       "\n",
       "    .dataframe thead th {\n",
       "        text-align: right;\n",
       "    }\n",
       "</style>\n",
       "<table border=\"1\" class=\"dataframe\">\n",
       "  <thead>\n",
       "    <tr style=\"text-align: right;\">\n",
       "      <th></th>\n",
       "      <th>fico_range_high</th>\n",
       "      <th>fico_range_low</th>\n",
       "    </tr>\n",
       "  </thead>\n",
       "  <tbody>\n",
       "    <tr>\n",
       "      <th>fico_range_high</th>\n",
       "      <td>1.0</td>\n",
       "      <td>1.0</td>\n",
       "    </tr>\n",
       "    <tr>\n",
       "      <th>fico_range_low</th>\n",
       "      <td>1.0</td>\n",
       "      <td>1.0</td>\n",
       "    </tr>\n",
       "  </tbody>\n",
       "</table>\n",
       "</div>"
      ],
      "text/plain": [
       "                 fico_range_high  fico_range_low\n",
       "fico_range_high              1.0             1.0\n",
       "fico_range_low               1.0             1.0"
      ]
     },
     "execution_count": 21,
     "metadata": {},
     "output_type": "execute_result"
    }
   ],
   "source": [
    "df2[['fico_range_high', 'fico_range_low']].corr()  # correlation matrix"
   ]
  },
  {
   "cell_type": "code",
   "execution_count": 22,
   "metadata": {},
   "outputs": [],
   "source": [
    "df2 = df2.drop('fico_range_high', axis = 1)  # drop one of them since correlation is 1"
   ]
  },
  {
   "cell_type": "code",
   "execution_count": 30,
   "metadata": {},
   "outputs": [
    {
     "data": {
      "text/plain": [
       "MORTGAGE    1111450\n",
       "RENT         894929\n",
       "OWN          253057\n",
       "ANY             996\n",
       "OTHER           182\n",
       "NONE             54\n",
       "Name: home_ownership, dtype: int64"
      ]
     },
     "execution_count": 30,
     "metadata": {},
     "output_type": "execute_result"
    }
   ],
   "source": [
    "df2['home_ownership'].value_counts()      # see the how many values of each category among home_ownership variable there are."
   ]
  },
  {
   "cell_type": "code",
   "execution_count": 32,
   "metadata": {},
   "outputs": [
    {
     "data": {
      "text/plain": [
       "Source Verified    886231\n",
       "Not Verified       744806\n",
       "Verified           629631\n",
       "Name: verification_status, dtype: int64"
      ]
     },
     "execution_count": 32,
     "metadata": {},
     "output_type": "execute_result"
    }
   ],
   "source": [
    "df2['verification_status'].value_counts() # see the how many values of each category among verification_status variable there are."
   ]
  },
  {
   "cell_type": "code",
   "execution_count": 34,
   "metadata": {},
   "outputs": [
    {
     "data": {
      "text/plain": [
       "debt_consolidation    1277877\n",
       "credit_card            516971\n",
       "home_improvement       150457\n",
       "other                  139440\n",
       "major_purchase          50445\n",
       "medical                 27488\n",
       "small_business          24689\n",
       "car                     24013\n",
       "vacation                15525\n",
       "moving                  15403\n",
       "house                   14136\n",
       "wedding                  2355\n",
       "renewable_energy         1445\n",
       "educational               424\n",
       "Name: purpose, dtype: int64"
      ]
     },
     "execution_count": 34,
     "metadata": {},
     "output_type": "execute_result"
    }
   ],
   "source": [
    "df2['purpose'].value_counts() # see the how many values of each category among purpose variable there are."
   ]
  },
  {
   "cell_type": "code",
   "execution_count": 37,
   "metadata": {},
   "outputs": [
    {
     "data": {
      "text/html": [
       "<div>\n",
       "<style scoped>\n",
       "    .dataframe tbody tr th:only-of-type {\n",
       "        vertical-align: middle;\n",
       "    }\n",
       "\n",
       "    .dataframe tbody tr th {\n",
       "        vertical-align: top;\n",
       "    }\n",
       "\n",
       "    .dataframe thead th {\n",
       "        text-align: right;\n",
       "    }\n",
       "</style>\n",
       "<table border=\"1\" class=\"dataframe\">\n",
       "  <thead>\n",
       "    <tr style=\"text-align: right;\">\n",
       "      <th></th>\n",
       "      <th>sub_grade</th>\n",
       "      <th>home_ownership</th>\n",
       "      <th>verification_status</th>\n",
       "      <th>purpose</th>\n",
       "    </tr>\n",
       "  </thead>\n",
       "  <tbody>\n",
       "    <tr>\n",
       "      <th>0</th>\n",
       "      <td>C1</td>\n",
       "      <td>MORTGAGE</td>\n",
       "      <td>Source Verified</td>\n",
       "      <td>debt_consolidation</td>\n",
       "    </tr>\n",
       "  </tbody>\n",
       "</table>\n",
       "</div>"
      ],
      "text/plain": [
       "  sub_grade home_ownership verification_status             purpose\n",
       "0        C1       MORTGAGE     Source Verified  debt_consolidation"
      ]
     },
     "execution_count": 37,
     "metadata": {},
     "output_type": "execute_result"
    }
   ],
   "source": [
    "df2[['sub_grade','home_ownership','verification_status','purpose']].mode() # find the mode for each variable"
   ]
  },
  {
   "cell_type": "code",
   "execution_count": 38,
   "metadata": {},
   "outputs": [
    {
     "data": {
      "text/plain": [
       "'MORTGAGE'"
      ]
     },
     "execution_count": 38,
     "metadata": {},
     "output_type": "execute_result"
    }
   ],
   "source": [
    "df2['home_ownership'].mode()[0]  # just an example"
   ]
  },
  {
   "cell_type": "code",
   "execution_count": 23,
   "metadata": {},
   "outputs": [
    {
     "data": {
      "text/html": [
       "<div>\n",
       "<style scoped>\n",
       "    .dataframe tbody tr th:only-of-type {\n",
       "        vertical-align: middle;\n",
       "    }\n",
       "\n",
       "    .dataframe tbody tr th {\n",
       "        vertical-align: top;\n",
       "    }\n",
       "\n",
       "    .dataframe thead th {\n",
       "        text-align: right;\n",
       "    }\n",
       "</style>\n",
       "<table border=\"1\" class=\"dataframe\">\n",
       "  <thead>\n",
       "    <tr style=\"text-align: right;\">\n",
       "      <th></th>\n",
       "      <th>id</th>\n",
       "      <th>member_id</th>\n",
       "      <th>loan_amnt</th>\n",
       "      <th>funded_amnt</th>\n",
       "      <th>funded_amnt_inv</th>\n",
       "      <th>term</th>\n",
       "      <th>int_rate</th>\n",
       "      <th>installment</th>\n",
       "      <th>grade</th>\n",
       "      <th>sub_grade</th>\n",
       "      <th>...</th>\n",
       "      <th>hardship_last_payment_amount</th>\n",
       "      <th>disbursement_method</th>\n",
       "      <th>debt_settlement_flag</th>\n",
       "      <th>debt_settlement_flag_date</th>\n",
       "      <th>settlement_status</th>\n",
       "      <th>settlement_date</th>\n",
       "      <th>settlement_amount</th>\n",
       "      <th>settlement_percentage</th>\n",
       "      <th>settlement_term</th>\n",
       "      <th>Charged Off</th>\n",
       "    </tr>\n",
       "  </thead>\n",
       "  <tbody>\n",
       "    <tr>\n",
       "      <th>0</th>\n",
       "      <td>68407277</td>\n",
       "      <td>NaN</td>\n",
       "      <td>3600.0</td>\n",
       "      <td>3600.0</td>\n",
       "      <td>3600.0</td>\n",
       "      <td>36 months</td>\n",
       "      <td>13.99</td>\n",
       "      <td>123.03</td>\n",
       "      <td>C</td>\n",
       "      <td>C4</td>\n",
       "      <td>...</td>\n",
       "      <td>NaN</td>\n",
       "      <td>Cash</td>\n",
       "      <td>N</td>\n",
       "      <td>NaN</td>\n",
       "      <td>NaN</td>\n",
       "      <td>NaN</td>\n",
       "      <td>NaN</td>\n",
       "      <td>NaN</td>\n",
       "      <td>NaN</td>\n",
       "      <td>0</td>\n",
       "    </tr>\n",
       "    <tr>\n",
       "      <th>1</th>\n",
       "      <td>68355089</td>\n",
       "      <td>NaN</td>\n",
       "      <td>24700.0</td>\n",
       "      <td>24700.0</td>\n",
       "      <td>24700.0</td>\n",
       "      <td>36 months</td>\n",
       "      <td>11.99</td>\n",
       "      <td>820.28</td>\n",
       "      <td>C</td>\n",
       "      <td>C1</td>\n",
       "      <td>...</td>\n",
       "      <td>NaN</td>\n",
       "      <td>Cash</td>\n",
       "      <td>N</td>\n",
       "      <td>NaN</td>\n",
       "      <td>NaN</td>\n",
       "      <td>NaN</td>\n",
       "      <td>NaN</td>\n",
       "      <td>NaN</td>\n",
       "      <td>NaN</td>\n",
       "      <td>0</td>\n",
       "    </tr>\n",
       "    <tr>\n",
       "      <th>2</th>\n",
       "      <td>68341763</td>\n",
       "      <td>NaN</td>\n",
       "      <td>20000.0</td>\n",
       "      <td>20000.0</td>\n",
       "      <td>20000.0</td>\n",
       "      <td>60 months</td>\n",
       "      <td>10.78</td>\n",
       "      <td>432.66</td>\n",
       "      <td>B</td>\n",
       "      <td>B4</td>\n",
       "      <td>...</td>\n",
       "      <td>NaN</td>\n",
       "      <td>Cash</td>\n",
       "      <td>N</td>\n",
       "      <td>NaN</td>\n",
       "      <td>NaN</td>\n",
       "      <td>NaN</td>\n",
       "      <td>NaN</td>\n",
       "      <td>NaN</td>\n",
       "      <td>NaN</td>\n",
       "      <td>0</td>\n",
       "    </tr>\n",
       "    <tr>\n",
       "      <th>3</th>\n",
       "      <td>66310712</td>\n",
       "      <td>NaN</td>\n",
       "      <td>35000.0</td>\n",
       "      <td>35000.0</td>\n",
       "      <td>35000.0</td>\n",
       "      <td>60 months</td>\n",
       "      <td>14.85</td>\n",
       "      <td>829.90</td>\n",
       "      <td>C</td>\n",
       "      <td>C5</td>\n",
       "      <td>...</td>\n",
       "      <td>NaN</td>\n",
       "      <td>Cash</td>\n",
       "      <td>N</td>\n",
       "      <td>NaN</td>\n",
       "      <td>NaN</td>\n",
       "      <td>NaN</td>\n",
       "      <td>NaN</td>\n",
       "      <td>NaN</td>\n",
       "      <td>NaN</td>\n",
       "      <td>0</td>\n",
       "    </tr>\n",
       "    <tr>\n",
       "      <th>4</th>\n",
       "      <td>68476807</td>\n",
       "      <td>NaN</td>\n",
       "      <td>10400.0</td>\n",
       "      <td>10400.0</td>\n",
       "      <td>10400.0</td>\n",
       "      <td>60 months</td>\n",
       "      <td>22.45</td>\n",
       "      <td>289.91</td>\n",
       "      <td>F</td>\n",
       "      <td>F1</td>\n",
       "      <td>...</td>\n",
       "      <td>NaN</td>\n",
       "      <td>Cash</td>\n",
       "      <td>N</td>\n",
       "      <td>NaN</td>\n",
       "      <td>NaN</td>\n",
       "      <td>NaN</td>\n",
       "      <td>NaN</td>\n",
       "      <td>NaN</td>\n",
       "      <td>NaN</td>\n",
       "      <td>0</td>\n",
       "    </tr>\n",
       "  </tbody>\n",
       "</table>\n",
       "<p>5 rows × 151 columns</p>\n",
       "</div>"
      ],
      "text/plain": [
       "         id  member_id  loan_amnt  funded_amnt  funded_amnt_inv        term  \\\n",
       "0  68407277        NaN     3600.0       3600.0           3600.0   36 months   \n",
       "1  68355089        NaN    24700.0      24700.0          24700.0   36 months   \n",
       "2  68341763        NaN    20000.0      20000.0          20000.0   60 months   \n",
       "3  66310712        NaN    35000.0      35000.0          35000.0   60 months   \n",
       "4  68476807        NaN    10400.0      10400.0          10400.0   60 months   \n",
       "\n",
       "   int_rate  installment grade sub_grade  ... hardship_last_payment_amount  \\\n",
       "0     13.99       123.03     C        C4  ...                          NaN   \n",
       "1     11.99       820.28     C        C1  ...                          NaN   \n",
       "2     10.78       432.66     B        B4  ...                          NaN   \n",
       "3     14.85       829.90     C        C5  ...                          NaN   \n",
       "4     22.45       289.91     F        F1  ...                          NaN   \n",
       "\n",
       "  disbursement_method debt_settlement_flag  debt_settlement_flag_date  \\\n",
       "0                Cash                    N                        NaN   \n",
       "1                Cash                    N                        NaN   \n",
       "2                Cash                    N                        NaN   \n",
       "3                Cash                    N                        NaN   \n",
       "4                Cash                    N                        NaN   \n",
       "\n",
       "  settlement_status settlement_date settlement_amount settlement_percentage  \\\n",
       "0               NaN             NaN               NaN                   NaN   \n",
       "1               NaN             NaN               NaN                   NaN   \n",
       "2               NaN             NaN               NaN                   NaN   \n",
       "3               NaN             NaN               NaN                   NaN   \n",
       "4               NaN             NaN               NaN                   NaN   \n",
       "\n",
       "  settlement_term Charged Off  \n",
       "0             NaN           0  \n",
       "1             NaN           0  \n",
       "2             NaN           0  \n",
       "3             NaN           0  \n",
       "4             NaN           0  \n",
       "\n",
       "[5 rows x 151 columns]"
      ]
     },
     "execution_count": 23,
     "metadata": {},
     "output_type": "execute_result"
    }
   ],
   "source": [
    "categorical = df2[['sub_grade','home_ownership','verification_status','purpose']]\n",
    "df2 = df2.drop(categorical, axis = 1)  # drop categorical variables and fill null values with mean values\n",
    "df2 = df2.fillna(df2.mean())\n",
    "df2[['sub_grade','home_ownership','verification_status','purpose']] = categorical # return the categorical values\n",
    "df2['sub_grade'] = df2['sub_grade'].fillna(df2['sub_grade'].mode()[0])  # fill null values for categorical variables with mode\n",
    "df2['home_ownership'] = df2['home_ownership'].fillna(df2['home_ownership'].mode()[0])\n",
    "df2['verification_status'] = df2['verification_status'].fillna(df2['verification_status'].mode()[0])\n",
    "df2['purpose'] = df2['purpose'].fillna(df2['purpose'].mode()[0])\n",
    "df.head()"
   ]
  },
  {
   "cell_type": "code",
   "execution_count": 30,
   "metadata": {},
   "outputs": [
    {
     "data": {
      "text/plain": [
       "Charged Off              0\n",
       "funded_amnt              0\n",
       "annual_inc               0\n",
       "dti                      0\n",
       "emp_length               0\n",
       "fico_range_low           0\n",
       "installment              0\n",
       "int_rate                 0\n",
       "loan_amnt                0\n",
       "mort_acc                 0\n",
       "pub_rec                  0\n",
       "pub_rec_bankruptcies     0\n",
       "revol_bal                0\n",
       "revol_util               0\n",
       "term                     0\n",
       "last_pymnt_amnt          0\n",
       "num_actv_rev_tl          0\n",
       "mo_sin_rcnt_rev_tl_op    0\n",
       "mo_sin_old_rev_tl_op     0\n",
       "bc_util                  0\n",
       "bc_open_to_buy           0\n",
       "avg_cur_bal              0\n",
       "acc_open_past_24mths     0\n",
       "sub_grade                0\n",
       "home_ownership           0\n",
       "verification_status      0\n",
       "purpose                  0\n",
       "dtype: int64"
      ]
     },
     "execution_count": 30,
     "metadata": {},
     "output_type": "execute_result"
    }
   ],
   "source": [
    "df2.isna().sum()  # finally, there are no null values"
   ]
  },
  {
   "cell_type": "code",
   "execution_count": 31,
   "metadata": {},
   "outputs": [
    {
     "name": "stdout",
     "output_type": "stream",
     "text": [
      "<class 'pandas.core.frame.DataFrame'>\n",
      "RangeIndex: 2260701 entries, 0 to 2260700\n",
      "Data columns (total 27 columns):\n",
      " #   Column                 Dtype  \n",
      "---  ------                 -----  \n",
      " 0   Charged Off            int32  \n",
      " 1   funded_amnt            float64\n",
      " 2   annual_inc             float64\n",
      " 3   dti                    float64\n",
      " 4   emp_length             float64\n",
      " 5   fico_range_low         float64\n",
      " 6   installment            float64\n",
      " 7   int_rate               float64\n",
      " 8   loan_amnt              float64\n",
      " 9   mort_acc               float64\n",
      " 10  pub_rec                float64\n",
      " 11  pub_rec_bankruptcies   float64\n",
      " 12  revol_bal              float64\n",
      " 13  revol_util             float64\n",
      " 14  term                   int32  \n",
      " 15  last_pymnt_amnt        float64\n",
      " 16  num_actv_rev_tl        float64\n",
      " 17  mo_sin_rcnt_rev_tl_op  float64\n",
      " 18  mo_sin_old_rev_tl_op   float64\n",
      " 19  bc_util                float64\n",
      " 20  bc_open_to_buy         float64\n",
      " 21  avg_cur_bal            float64\n",
      " 22  acc_open_past_24mths   float64\n",
      " 23  sub_grade              object \n",
      " 24  home_ownership         object \n",
      " 25  verification_status    object \n",
      " 26  purpose                object \n",
      "dtypes: float64(21), int32(2), object(4)\n",
      "memory usage: 448.4+ MB\n"
     ]
    }
   ],
   "source": [
    "df2.info() # however ther are object type variables"
   ]
  },
  {
   "cell_type": "code",
   "execution_count": 24,
   "metadata": {},
   "outputs": [
    {
     "data": {
      "text/html": [
       "<div>\n",
       "<style scoped>\n",
       "    .dataframe tbody tr th:only-of-type {\n",
       "        vertical-align: middle;\n",
       "    }\n",
       "\n",
       "    .dataframe tbody tr th {\n",
       "        vertical-align: top;\n",
       "    }\n",
       "\n",
       "    .dataframe thead th {\n",
       "        text-align: right;\n",
       "    }\n",
       "</style>\n",
       "<table border=\"1\" class=\"dataframe\">\n",
       "  <thead>\n",
       "    <tr style=\"text-align: right;\">\n",
       "      <th></th>\n",
       "      <th>sub_grade</th>\n",
       "      <th>home_ownership</th>\n",
       "      <th>verification_status</th>\n",
       "      <th>purpose</th>\n",
       "    </tr>\n",
       "  </thead>\n",
       "  <tbody>\n",
       "    <tr>\n",
       "      <th>0</th>\n",
       "      <td>C4</td>\n",
       "      <td>MORTGAGE</td>\n",
       "      <td>Not Verified</td>\n",
       "      <td>debt_consolidation</td>\n",
       "    </tr>\n",
       "    <tr>\n",
       "      <th>1</th>\n",
       "      <td>C1</td>\n",
       "      <td>MORTGAGE</td>\n",
       "      <td>Not Verified</td>\n",
       "      <td>small_business</td>\n",
       "    </tr>\n",
       "    <tr>\n",
       "      <th>2</th>\n",
       "      <td>B4</td>\n",
       "      <td>MORTGAGE</td>\n",
       "      <td>Not Verified</td>\n",
       "      <td>home_improvement</td>\n",
       "    </tr>\n",
       "    <tr>\n",
       "      <th>3</th>\n",
       "      <td>C5</td>\n",
       "      <td>MORTGAGE</td>\n",
       "      <td>Source Verified</td>\n",
       "      <td>debt_consolidation</td>\n",
       "    </tr>\n",
       "    <tr>\n",
       "      <th>4</th>\n",
       "      <td>F1</td>\n",
       "      <td>MORTGAGE</td>\n",
       "      <td>Source Verified</td>\n",
       "      <td>major_purchase</td>\n",
       "    </tr>\n",
       "    <tr>\n",
       "      <th>...</th>\n",
       "      <td>...</td>\n",
       "      <td>...</td>\n",
       "      <td>...</td>\n",
       "      <td>...</td>\n",
       "    </tr>\n",
       "    <tr>\n",
       "      <th>2260696</th>\n",
       "      <td>B3</td>\n",
       "      <td>MORTGAGE</td>\n",
       "      <td>Verified</td>\n",
       "      <td>debt_consolidation</td>\n",
       "    </tr>\n",
       "    <tr>\n",
       "      <th>2260697</th>\n",
       "      <td>C4</td>\n",
       "      <td>RENT</td>\n",
       "      <td>Not Verified</td>\n",
       "      <td>debt_consolidation</td>\n",
       "    </tr>\n",
       "    <tr>\n",
       "      <th>2260698</th>\n",
       "      <td>C4</td>\n",
       "      <td>MORTGAGE</td>\n",
       "      <td>Verified</td>\n",
       "      <td>debt_consolidation</td>\n",
       "    </tr>\n",
       "    <tr>\n",
       "      <th>2260699</th>\n",
       "      <td>C1</td>\n",
       "      <td>MORTGAGE</td>\n",
       "      <td>Source Verified</td>\n",
       "      <td>debt_consolidation</td>\n",
       "    </tr>\n",
       "    <tr>\n",
       "      <th>2260700</th>\n",
       "      <td>C1</td>\n",
       "      <td>MORTGAGE</td>\n",
       "      <td>Source Verified</td>\n",
       "      <td>debt_consolidation</td>\n",
       "    </tr>\n",
       "  </tbody>\n",
       "</table>\n",
       "<p>2260701 rows × 4 columns</p>\n",
       "</div>"
      ],
      "text/plain": [
       "        sub_grade home_ownership verification_status             purpose\n",
       "0              C4       MORTGAGE        Not Verified  debt_consolidation\n",
       "1              C1       MORTGAGE        Not Verified      small_business\n",
       "2              B4       MORTGAGE        Not Verified    home_improvement\n",
       "3              C5       MORTGAGE     Source Verified  debt_consolidation\n",
       "4              F1       MORTGAGE     Source Verified      major_purchase\n",
       "...           ...            ...                 ...                 ...\n",
       "2260696        B3       MORTGAGE            Verified  debt_consolidation\n",
       "2260697        C4           RENT        Not Verified  debt_consolidation\n",
       "2260698        C4       MORTGAGE            Verified  debt_consolidation\n",
       "2260699        C1       MORTGAGE     Source Verified  debt_consolidation\n",
       "2260700        C1       MORTGAGE     Source Verified  debt_consolidation\n",
       "\n",
       "[2260701 rows x 4 columns]"
      ]
     },
     "execution_count": 24,
     "metadata": {},
     "output_type": "execute_result"
    }
   ],
   "source": [
    "categorical = df2[['sub_grade','home_ownership','verification_status','purpose']]\n",
    "categorical"
   ]
  },
  {
   "cell_type": "code",
   "execution_count": 25,
   "metadata": {},
   "outputs": [],
   "source": [
    "categorical = df2[['sub_grade','home_ownership','verification_status','purpose']]"
   ]
  },
  {
   "cell_type": "code",
   "execution_count": 26,
   "metadata": {},
   "outputs": [
    {
     "data": {
      "text/plain": [
       "array(['A1', 'A2', 'A3', 'A4', 'A5', 'B1', 'B2', 'B3', 'B4', 'B5', 'C1',\n",
       "       'C2', 'C3', 'C4', 'C5', 'D1', 'D2', 'D3', 'D4', 'D5', 'E1', 'E2',\n",
       "       'E3', 'E4', 'E5', 'F1', 'F2', 'F3', 'F4', 'F5', 'G1', 'G2', 'G3',\n",
       "       'G4', 'G5'], dtype=object)"
      ]
     },
     "execution_count": 26,
     "metadata": {},
     "output_type": "execute_result"
    }
   ],
   "source": [
    "from sklearn import preprocessing\n",
    "encoder = preprocessing.LabelEncoder()  # label encoder assigns integer values from 0 to k-1 classes for each category\n",
    "encoder.fit(df2['sub_grade'])\n",
    "encoder.classes_  # original categories from sub_grade column"
   ]
  },
  {
   "cell_type": "code",
   "execution_count": 27,
   "metadata": {},
   "outputs": [
    {
     "data": {
      "text/plain": [
       "0          13\n",
       "1          10\n",
       "2           8\n",
       "3          14\n",
       "4          25\n",
       "           ..\n",
       "2260696     7\n",
       "2260697    13\n",
       "2260698    13\n",
       "2260699    10\n",
       "2260700    10\n",
       "Name: sub_grade, Length: 2260701, dtype: int32"
      ]
     },
     "execution_count": 27,
     "metadata": {},
     "output_type": "execute_result"
    }
   ],
   "source": [
    "df2['sub_grade'] = encoder.transform(df2['sub_grade'])\n",
    "df2['sub_grade']  # transform object type to int32 type"
   ]
  },
  {
   "cell_type": "code",
   "execution_count": 28,
   "metadata": {},
   "outputs": [
    {
     "data": {
      "text/plain": [
       "0          1\n",
       "1          1\n",
       "2          1\n",
       "3          1\n",
       "4          1\n",
       "          ..\n",
       "2260696    1\n",
       "2260697    5\n",
       "2260698    1\n",
       "2260699    1\n",
       "2260700    1\n",
       "Name: home_ownership, Length: 2260701, dtype: int32"
      ]
     },
     "execution_count": 28,
     "metadata": {},
     "output_type": "execute_result"
    }
   ],
   "source": [
    "from sklearn import preprocessing\n",
    "encoder = preprocessing.LabelEncoder()  # do the same with home_ownership\n",
    "encoder.fit(df2['home_ownership'])\n",
    "df2['home_ownership'] = encoder.transform(df2['home_ownership'])\n",
    "df2['home_ownership']"
   ]
  },
  {
   "cell_type": "code",
   "execution_count": 29,
   "metadata": {},
   "outputs": [
    {
     "data": {
      "text/plain": [
       "0          0\n",
       "1          0\n",
       "2          0\n",
       "3          1\n",
       "4          1\n",
       "          ..\n",
       "2260696    2\n",
       "2260697    0\n",
       "2260698    2\n",
       "2260699    1\n",
       "2260700    1\n",
       "Name: verification_status, Length: 2260701, dtype: int32"
      ]
     },
     "execution_count": 29,
     "metadata": {},
     "output_type": "execute_result"
    }
   ],
   "source": [
    "from sklearn import preprocessing\n",
    "encoder = preprocessing.LabelEncoder()\n",
    "encoder.fit(df2['verification_status']) # do the same with verification_status\n",
    "df2['verification_status'] = encoder.transform(df2['verification_status'])\n",
    "df2['verification_status']"
   ]
  },
  {
   "cell_type": "code",
   "execution_count": 30,
   "metadata": {},
   "outputs": [
    {
     "data": {
      "text/plain": [
       "0           2\n",
       "1          11\n",
       "2           4\n",
       "3           2\n",
       "4           6\n",
       "           ..\n",
       "2260696     2\n",
       "2260697     2\n",
       "2260698     2\n",
       "2260699     2\n",
       "2260700     2\n",
       "Name: purpose, Length: 2260701, dtype: int32"
      ]
     },
     "execution_count": 30,
     "metadata": {},
     "output_type": "execute_result"
    }
   ],
   "source": [
    "from sklearn import preprocessing\n",
    "encoder = preprocessing.LabelEncoder()\n",
    "encoder.fit(df2['purpose'])   # do the same with purpose\n",
    "df2['purpose'] = encoder.transform(df2['purpose'])\n",
    "df2['purpose']"
   ]
  },
  {
   "cell_type": "code",
   "execution_count": 54,
   "metadata": {},
   "outputs": [
    {
     "data": {
      "text/plain": [
       "Charged Off              0\n",
       "funded_amnt              0\n",
       "annual_inc               0\n",
       "dti                      0\n",
       "emp_length               0\n",
       "fico_range_low           0\n",
       "installment              0\n",
       "int_rate                 0\n",
       "loan_amnt                0\n",
       "mort_acc                 0\n",
       "pub_rec                  0\n",
       "pub_rec_bankruptcies     0\n",
       "revol_bal                0\n",
       "revol_util               0\n",
       "term                     0\n",
       "last_pymnt_amnt          0\n",
       "num_actv_rev_tl          0\n",
       "mo_sin_rcnt_rev_tl_op    0\n",
       "mo_sin_old_rev_tl_op     0\n",
       "bc_util                  0\n",
       "bc_open_to_buy           0\n",
       "avg_cur_bal              0\n",
       "acc_open_past_24mths     0\n",
       "sub_grade                0\n",
       "home_ownership           0\n",
       "verification_status      0\n",
       "purpose                  0\n",
       "dtype: int64"
      ]
     },
     "execution_count": 54,
     "metadata": {},
     "output_type": "execute_result"
    }
   ],
   "source": [
    "df2.isnull().sum() # no null values"
   ]
  },
  {
   "cell_type": "code",
   "execution_count": 56,
   "metadata": {},
   "outputs": [
    {
     "name": "stdout",
     "output_type": "stream",
     "text": [
      "<class 'pandas.core.frame.DataFrame'>\n",
      "RangeIndex: 2260701 entries, 0 to 2260700\n",
      "Data columns (total 27 columns):\n",
      " #   Column                 Dtype  \n",
      "---  ------                 -----  \n",
      " 0   Charged Off            int32  \n",
      " 1   funded_amnt            float64\n",
      " 2   annual_inc             float64\n",
      " 3   dti                    float64\n",
      " 4   emp_length             float64\n",
      " 5   fico_range_low         float64\n",
      " 6   installment            float64\n",
      " 7   int_rate               float64\n",
      " 8   loan_amnt              float64\n",
      " 9   mort_acc               float64\n",
      " 10  pub_rec                float64\n",
      " 11  pub_rec_bankruptcies   float64\n",
      " 12  revol_bal              float64\n",
      " 13  revol_util             float64\n",
      " 14  term                   int32  \n",
      " 15  last_pymnt_amnt        float64\n",
      " 16  num_actv_rev_tl        float64\n",
      " 17  mo_sin_rcnt_rev_tl_op  float64\n",
      " 18  mo_sin_old_rev_tl_op   float64\n",
      " 19  bc_util                float64\n",
      " 20  bc_open_to_buy         float64\n",
      " 21  avg_cur_bal            float64\n",
      " 22  acc_open_past_24mths   float64\n",
      " 23  sub_grade              int32  \n",
      " 24  home_ownership         int32  \n",
      " 25  verification_status    int32  \n",
      " 26  purpose                int32  \n",
      "dtypes: float64(21), int32(6)\n",
      "memory usage: 413.9 MB\n"
     ]
    }
   ],
   "source": [
    "df2.info() # no object type"
   ]
  },
  {
   "cell_type": "code",
   "execution_count": 57,
   "metadata": {},
   "outputs": [
    {
     "data": {
      "text/plain": [
       "count    2.260701e+06\n",
       "mean     7.799222e+04\n",
       "std      1.126953e+05\n",
       "min      0.000000e+00\n",
       "25%      4.600000e+04\n",
       "50%      6.500000e+04\n",
       "75%      9.300000e+04\n",
       "max      1.100000e+08\n",
       "Name: annual_inc, dtype: float64"
      ]
     },
     "execution_count": 57,
     "metadata": {},
     "output_type": "execute_result"
    }
   ],
   "source": [
    "df2['annual_inc'].describe()  # maximum and minimum in the range of hundreds of millions."
   ]
  },
  {
   "cell_type": "code",
   "execution_count": 31,
   "metadata": {},
   "outputs": [],
   "source": [
    "df2['annual_inc'] = np.log(df2['annual_inc']+1)  # apply the log function but add 1 because log(0) is undefined"
   ]
  },
  {
   "cell_type": "code",
   "execution_count": 40,
   "metadata": {},
   "outputs": [
    {
     "data": {
      "text/plain": [
       "0    1992142\n",
       "1     268559\n",
       "Name: Charged Off, dtype: int64"
      ]
     },
     "execution_count": 40,
     "metadata": {},
     "output_type": "execute_result"
    }
   ],
   "source": [
    "df2['Charged Off'].value_counts()"
   ]
  },
  {
   "cell_type": "code",
   "execution_count": 32,
   "metadata": {},
   "outputs": [],
   "source": [
    "charged = df2[df2['Charged Off'] == 0].sample(n = df2['Charged Off'].value_counts()[1], random_state = 66) \n",
    "#randomly sample charged off loans such that the amount of data for charged of and not charged off (paid) is equal"
   ]
  },
  {
   "cell_type": "code",
   "execution_count": 33,
   "metadata": {},
   "outputs": [],
   "source": [
    "paid = df2[df2['Charged Off'] == 1]"
   ]
  },
  {
   "cell_type": "code",
   "execution_count": 34,
   "metadata": {},
   "outputs": [
    {
     "data": {
      "text/html": [
       "<div>\n",
       "<style scoped>\n",
       "    .dataframe tbody tr th:only-of-type {\n",
       "        vertical-align: middle;\n",
       "    }\n",
       "\n",
       "    .dataframe tbody tr th {\n",
       "        vertical-align: top;\n",
       "    }\n",
       "\n",
       "    .dataframe thead th {\n",
       "        text-align: right;\n",
       "    }\n",
       "</style>\n",
       "<table border=\"1\" class=\"dataframe\">\n",
       "  <thead>\n",
       "    <tr style=\"text-align: right;\">\n",
       "      <th></th>\n",
       "      <th>Charged Off</th>\n",
       "      <th>funded_amnt</th>\n",
       "      <th>annual_inc</th>\n",
       "      <th>dti</th>\n",
       "      <th>emp_length</th>\n",
       "      <th>fico_range_low</th>\n",
       "      <th>installment</th>\n",
       "      <th>int_rate</th>\n",
       "      <th>loan_amnt</th>\n",
       "      <th>mort_acc</th>\n",
       "      <th>...</th>\n",
       "      <th>mo_sin_rcnt_rev_tl_op</th>\n",
       "      <th>mo_sin_old_rev_tl_op</th>\n",
       "      <th>bc_util</th>\n",
       "      <th>bc_open_to_buy</th>\n",
       "      <th>avg_cur_bal</th>\n",
       "      <th>acc_open_past_24mths</th>\n",
       "      <th>sub_grade</th>\n",
       "      <th>home_ownership</th>\n",
       "      <th>verification_status</th>\n",
       "      <th>purpose</th>\n",
       "    </tr>\n",
       "  </thead>\n",
       "  <tbody>\n",
       "    <tr>\n",
       "      <th>0</th>\n",
       "      <td>0</td>\n",
       "      <td>20000.0</td>\n",
       "      <td>10.915107</td>\n",
       "      <td>9.80</td>\n",
       "      <td>3.000000</td>\n",
       "      <td>680.0</td>\n",
       "      <td>613.94</td>\n",
       "      <td>27.27</td>\n",
       "      <td>20000.0</td>\n",
       "      <td>2.0</td>\n",
       "      <td>...</td>\n",
       "      <td>36.0</td>\n",
       "      <td>54.0</td>\n",
       "      <td>101.5</td>\n",
       "      <td>0.0</td>\n",
       "      <td>30826.0</td>\n",
       "      <td>1.0</td>\n",
       "      <td>24</td>\n",
       "      <td>4</td>\n",
       "      <td>2</td>\n",
       "      <td>2</td>\n",
       "    </tr>\n",
       "    <tr>\n",
       "      <th>1</th>\n",
       "      <td>0</td>\n",
       "      <td>10000.0</td>\n",
       "      <td>10.491302</td>\n",
       "      <td>16.63</td>\n",
       "      <td>3.000000</td>\n",
       "      <td>675.0</td>\n",
       "      <td>326.97</td>\n",
       "      <td>10.91</td>\n",
       "      <td>10000.0</td>\n",
       "      <td>0.0</td>\n",
       "      <td>...</td>\n",
       "      <td>7.0</td>\n",
       "      <td>44.0</td>\n",
       "      <td>47.8</td>\n",
       "      <td>7621.0</td>\n",
       "      <td>2642.0</td>\n",
       "      <td>6.0</td>\n",
       "      <td>8</td>\n",
       "      <td>4</td>\n",
       "      <td>1</td>\n",
       "      <td>2</td>\n",
       "    </tr>\n",
       "    <tr>\n",
       "      <th>2</th>\n",
       "      <td>0</td>\n",
       "      <td>20000.0</td>\n",
       "      <td>11.302217</td>\n",
       "      <td>17.87</td>\n",
       "      <td>10.000000</td>\n",
       "      <td>700.0</td>\n",
       "      <td>684.43</td>\n",
       "      <td>14.09</td>\n",
       "      <td>20000.0</td>\n",
       "      <td>3.0</td>\n",
       "      <td>...</td>\n",
       "      <td>6.0</td>\n",
       "      <td>279.0</td>\n",
       "      <td>53.6</td>\n",
       "      <td>18216.0</td>\n",
       "      <td>13346.0</td>\n",
       "      <td>2.0</td>\n",
       "      <td>9</td>\n",
       "      <td>1</td>\n",
       "      <td>2</td>\n",
       "      <td>2</td>\n",
       "    </tr>\n",
       "    <tr>\n",
       "      <th>3</th>\n",
       "      <td>0</td>\n",
       "      <td>9000.0</td>\n",
       "      <td>10.596660</td>\n",
       "      <td>17.40</td>\n",
       "      <td>0.935002</td>\n",
       "      <td>750.0</td>\n",
       "      <td>288.05</td>\n",
       "      <td>9.44</td>\n",
       "      <td>9000.0</td>\n",
       "      <td>0.0</td>\n",
       "      <td>...</td>\n",
       "      <td>19.0</td>\n",
       "      <td>203.0</td>\n",
       "      <td>79.7</td>\n",
       "      <td>1504.0</td>\n",
       "      <td>1068.0</td>\n",
       "      <td>4.0</td>\n",
       "      <td>5</td>\n",
       "      <td>5</td>\n",
       "      <td>0</td>\n",
       "      <td>2</td>\n",
       "    </tr>\n",
       "    <tr>\n",
       "      <th>4</th>\n",
       "      <td>0</td>\n",
       "      <td>17500.0</td>\n",
       "      <td>11.552156</td>\n",
       "      <td>15.87</td>\n",
       "      <td>0.000000</td>\n",
       "      <td>660.0</td>\n",
       "      <td>633.20</td>\n",
       "      <td>18.06</td>\n",
       "      <td>17500.0</td>\n",
       "      <td>3.0</td>\n",
       "      <td>...</td>\n",
       "      <td>10.0</td>\n",
       "      <td>376.0</td>\n",
       "      <td>96.2</td>\n",
       "      <td>656.0</td>\n",
       "      <td>19796.0</td>\n",
       "      <td>7.0</td>\n",
       "      <td>16</td>\n",
       "      <td>1</td>\n",
       "      <td>0</td>\n",
       "      <td>2</td>\n",
       "    </tr>\n",
       "    <tr>\n",
       "      <th>...</th>\n",
       "      <td>...</td>\n",
       "      <td>...</td>\n",
       "      <td>...</td>\n",
       "      <td>...</td>\n",
       "      <td>...</td>\n",
       "      <td>...</td>\n",
       "      <td>...</td>\n",
       "      <td>...</td>\n",
       "      <td>...</td>\n",
       "      <td>...</td>\n",
       "      <td>...</td>\n",
       "      <td>...</td>\n",
       "      <td>...</td>\n",
       "      <td>...</td>\n",
       "      <td>...</td>\n",
       "      <td>...</td>\n",
       "      <td>...</td>\n",
       "      <td>...</td>\n",
       "      <td>...</td>\n",
       "      <td>...</td>\n",
       "      <td>...</td>\n",
       "    </tr>\n",
       "    <tr>\n",
       "      <th>537113</th>\n",
       "      <td>1</td>\n",
       "      <td>32000.0</td>\n",
       "      <td>11.736077</td>\n",
       "      <td>29.89</td>\n",
       "      <td>10.000000</td>\n",
       "      <td>670.0</td>\n",
       "      <td>744.42</td>\n",
       "      <td>13.99</td>\n",
       "      <td>32000.0</td>\n",
       "      <td>7.0</td>\n",
       "      <td>...</td>\n",
       "      <td>3.0</td>\n",
       "      <td>251.0</td>\n",
       "      <td>43.6</td>\n",
       "      <td>53336.0</td>\n",
       "      <td>29071.0</td>\n",
       "      <td>6.0</td>\n",
       "      <td>12</td>\n",
       "      <td>1</td>\n",
       "      <td>1</td>\n",
       "      <td>2</td>\n",
       "    </tr>\n",
       "    <tr>\n",
       "      <th>537114</th>\n",
       "      <td>1</td>\n",
       "      <td>11200.0</td>\n",
       "      <td>11.362114</td>\n",
       "      <td>4.80</td>\n",
       "      <td>5.000000</td>\n",
       "      <td>665.0</td>\n",
       "      <td>257.66</td>\n",
       "      <td>13.49</td>\n",
       "      <td>11200.0</td>\n",
       "      <td>0.0</td>\n",
       "      <td>...</td>\n",
       "      <td>1.0</td>\n",
       "      <td>70.0</td>\n",
       "      <td>57.7</td>\n",
       "      <td>6720.0</td>\n",
       "      <td>1797.0</td>\n",
       "      <td>4.0</td>\n",
       "      <td>11</td>\n",
       "      <td>5</td>\n",
       "      <td>1</td>\n",
       "      <td>2</td>\n",
       "    </tr>\n",
       "    <tr>\n",
       "      <th>537115</th>\n",
       "      <td>1</td>\n",
       "      <td>36400.0</td>\n",
       "      <td>11.461643</td>\n",
       "      <td>21.50</td>\n",
       "      <td>5.000000</td>\n",
       "      <td>720.0</td>\n",
       "      <td>856.24</td>\n",
       "      <td>14.49</td>\n",
       "      <td>36400.0</td>\n",
       "      <td>6.0</td>\n",
       "      <td>...</td>\n",
       "      <td>5.0</td>\n",
       "      <td>355.0</td>\n",
       "      <td>91.5</td>\n",
       "      <td>3676.0</td>\n",
       "      <td>43772.0</td>\n",
       "      <td>3.0</td>\n",
       "      <td>13</td>\n",
       "      <td>5</td>\n",
       "      <td>2</td>\n",
       "      <td>1</td>\n",
       "    </tr>\n",
       "    <tr>\n",
       "      <th>537116</th>\n",
       "      <td>1</td>\n",
       "      <td>32000.0</td>\n",
       "      <td>11.964007</td>\n",
       "      <td>10.34</td>\n",
       "      <td>3.000000</td>\n",
       "      <td>735.0</td>\n",
       "      <td>752.74</td>\n",
       "      <td>14.49</td>\n",
       "      <td>32000.0</td>\n",
       "      <td>3.0</td>\n",
       "      <td>...</td>\n",
       "      <td>4.0</td>\n",
       "      <td>63.0</td>\n",
       "      <td>10.6</td>\n",
       "      <td>14118.0</td>\n",
       "      <td>29193.0</td>\n",
       "      <td>10.0</td>\n",
       "      <td>13</td>\n",
       "      <td>1</td>\n",
       "      <td>1</td>\n",
       "      <td>4</td>\n",
       "    </tr>\n",
       "    <tr>\n",
       "      <th>537117</th>\n",
       "      <td>1</td>\n",
       "      <td>24000.0</td>\n",
       "      <td>11.608245</td>\n",
       "      <td>18.30</td>\n",
       "      <td>6.000000</td>\n",
       "      <td>660.0</td>\n",
       "      <td>564.56</td>\n",
       "      <td>14.49</td>\n",
       "      <td>24000.0</td>\n",
       "      <td>2.0</td>\n",
       "      <td>...</td>\n",
       "      <td>9.0</td>\n",
       "      <td>206.0</td>\n",
       "      <td>77.5</td>\n",
       "      <td>4660.0</td>\n",
       "      <td>6243.0</td>\n",
       "      <td>7.0</td>\n",
       "      <td>13</td>\n",
       "      <td>5</td>\n",
       "      <td>0</td>\n",
       "      <td>2</td>\n",
       "    </tr>\n",
       "  </tbody>\n",
       "</table>\n",
       "<p>537118 rows × 27 columns</p>\n",
       "</div>"
      ],
      "text/plain": [
       "        Charged Off  funded_amnt  annual_inc    dti  emp_length  \\\n",
       "0                 0      20000.0   10.915107   9.80    3.000000   \n",
       "1                 0      10000.0   10.491302  16.63    3.000000   \n",
       "2                 0      20000.0   11.302217  17.87   10.000000   \n",
       "3                 0       9000.0   10.596660  17.40    0.935002   \n",
       "4                 0      17500.0   11.552156  15.87    0.000000   \n",
       "...             ...          ...         ...    ...         ...   \n",
       "537113            1      32000.0   11.736077  29.89   10.000000   \n",
       "537114            1      11200.0   11.362114   4.80    5.000000   \n",
       "537115            1      36400.0   11.461643  21.50    5.000000   \n",
       "537116            1      32000.0   11.964007  10.34    3.000000   \n",
       "537117            1      24000.0   11.608245  18.30    6.000000   \n",
       "\n",
       "        fico_range_low  installment  int_rate  loan_amnt  mort_acc  ...  \\\n",
       "0                680.0       613.94     27.27    20000.0       2.0  ...   \n",
       "1                675.0       326.97     10.91    10000.0       0.0  ...   \n",
       "2                700.0       684.43     14.09    20000.0       3.0  ...   \n",
       "3                750.0       288.05      9.44     9000.0       0.0  ...   \n",
       "4                660.0       633.20     18.06    17500.0       3.0  ...   \n",
       "...                ...          ...       ...        ...       ...  ...   \n",
       "537113           670.0       744.42     13.99    32000.0       7.0  ...   \n",
       "537114           665.0       257.66     13.49    11200.0       0.0  ...   \n",
       "537115           720.0       856.24     14.49    36400.0       6.0  ...   \n",
       "537116           735.0       752.74     14.49    32000.0       3.0  ...   \n",
       "537117           660.0       564.56     14.49    24000.0       2.0  ...   \n",
       "\n",
       "        mo_sin_rcnt_rev_tl_op  mo_sin_old_rev_tl_op  bc_util  bc_open_to_buy  \\\n",
       "0                        36.0                  54.0    101.5             0.0   \n",
       "1                         7.0                  44.0     47.8          7621.0   \n",
       "2                         6.0                 279.0     53.6         18216.0   \n",
       "3                        19.0                 203.0     79.7          1504.0   \n",
       "4                        10.0                 376.0     96.2           656.0   \n",
       "...                       ...                   ...      ...             ...   \n",
       "537113                    3.0                 251.0     43.6         53336.0   \n",
       "537114                    1.0                  70.0     57.7          6720.0   \n",
       "537115                    5.0                 355.0     91.5          3676.0   \n",
       "537116                    4.0                  63.0     10.6         14118.0   \n",
       "537117                    9.0                 206.0     77.5          4660.0   \n",
       "\n",
       "        avg_cur_bal  acc_open_past_24mths  sub_grade  home_ownership  \\\n",
       "0           30826.0                   1.0         24               4   \n",
       "1            2642.0                   6.0          8               4   \n",
       "2           13346.0                   2.0          9               1   \n",
       "3            1068.0                   4.0          5               5   \n",
       "4           19796.0                   7.0         16               1   \n",
       "...             ...                   ...        ...             ...   \n",
       "537113      29071.0                   6.0         12               1   \n",
       "537114       1797.0                   4.0         11               5   \n",
       "537115      43772.0                   3.0         13               5   \n",
       "537116      29193.0                  10.0         13               1   \n",
       "537117       6243.0                   7.0         13               5   \n",
       "\n",
       "        verification_status  purpose  \n",
       "0                         2        2  \n",
       "1                         1        2  \n",
       "2                         2        2  \n",
       "3                         0        2  \n",
       "4                         0        2  \n",
       "...                     ...      ...  \n",
       "537113                    1        2  \n",
       "537114                    1        2  \n",
       "537115                    2        1  \n",
       "537116                    1        4  \n",
       "537117                    0        2  \n",
       "\n",
       "[537118 rows x 27 columns]"
      ]
     },
     "execution_count": 34,
     "metadata": {},
     "output_type": "execute_result"
    }
   ],
   "source": [
    "# Final dataframe with 537118 rows × 27 columns. Significantly less than the orignial data.\n",
    "data = pd.concat([charged, paid]).reset_index(drop = True)\n",
    "data"
   ]
  },
  {
   "cell_type": "markdown",
   "metadata": {},
   "source": [
    "# Model Selection"
   ]
  },
  {
   "cell_type": "code",
   "execution_count": 35,
   "metadata": {},
   "outputs": [],
   "source": [
    "from sklearn.model_selection import train_test_split\n",
    "from sklearn.metrics import roc_auc_score, accuracy_score, precision_score, recall_score, f1_score, confusion_matrix"
   ]
  },
  {
   "cell_type": "code",
   "execution_count": 89,
   "metadata": {},
   "outputs": [],
   "source": [
    "y = data['Charged Off']\n",
    "X = data.loc[:, data.columns != 'Charged Off']\n",
    "X_train, X_test, y_train, y_test = train_test_split(X, y, test_size=0.2, random_state=66)"
   ]
  },
  {
   "cell_type": "code",
   "execution_count": 75,
   "metadata": {},
   "outputs": [
    {
     "data": {
      "text/plain": [
       "0    214892\n",
       "1    214802\n",
       "Name: Charged Off, dtype: int64"
      ]
     },
     "execution_count": 75,
     "metadata": {},
     "output_type": "execute_result"
    }
   ],
   "source": [
    "y_train.value_counts()"
   ]
  },
  {
   "cell_type": "code",
   "execution_count": 76,
   "metadata": {},
   "outputs": [
    {
     "data": {
      "text/plain": [
       "1    53757\n",
       "0    53667\n",
       "Name: Charged Off, dtype: int64"
      ]
     },
     "execution_count": 76,
     "metadata": {},
     "output_type": "execute_result"
    }
   ],
   "source": [
    "y_test.value_counts()"
   ]
  },
  {
   "cell_type": "markdown",
   "metadata": {},
   "source": [
    "## No scaling"
   ]
  },
  {
   "cell_type": "markdown",
   "metadata": {},
   "source": [
    "First try to take naive approach with some parameter guess or default parameters and not scaled data."
   ]
  },
  {
   "cell_type": "markdown",
   "metadata": {},
   "source": [
    "### Logistic Regression"
   ]
  },
  {
   "cell_type": "code",
   "execution_count": null,
   "metadata": {},
   "outputs": [],
   "source": [
    "logistic = LogisticRegression(solver = 'saga', max_iter = 5000).fit(X_train, y_train)  # saga solver is used because large dataset.\n",
    "logistic_pred_prob = logistic.predict_proba(X_test)\n",
    "logistic_pred = logistic.predict(X_test)\n",
    "print('ROC_AUC: ', roc_auc_score(y_test.values.reshape(-1,1), logistic_pred_prob[:,1]))\n",
    "print('Accuracy: ', accuracy_score(y_test, logistic_pred) )\n",
    "print('Precision: ', precision_score(y_test, logistic_pred) )\n",
    "print('Recall: ', recall_score(y_test, logistic_pred) )\n",
    "print('F1 Score: ', f1_score(y_test, logistic_pred) )\n",
    "pd.DataFrame(confusion_matrix(y_test, logistic_pred), columns = ['Fully Paid (pred)', 'Charged Off (pred)'], index = ['Fully Paid (true)', 'Charged Off (true)'])"
   ]
  },
  {
   "cell_type": "markdown",
   "metadata": {},
   "source": [
    "### Linear Discriminant Analysis"
   ]
  },
  {
   "cell_type": "code",
   "execution_count": null,
   "metadata": {},
   "outputs": [],
   "source": [
    "from sklearn.discriminant_analysis import LinearDiscriminantAnalysis\n",
    "lda = LinearDiscriminantAnalysis().fit(X_train, y_train)\n",
    "lda_pred = lda.predict(X_test)\n",
    "lda_pred_prob = lda.predict_proba(X_test)\n",
    "print('ROC_AUC: ', roc_auc_score(y_test.values.reshape(-1,1), lda_pred_prob[:,1]))\n",
    "print('Accuracy: ', accuracy_score(y_test, lda_pred) )  # lda.score(X_test_scaled, y_test)\n",
    "print('Precision: ', precision_score(y_test, lda_pred) )\n",
    "print('Recall: ', recall_score(y_test, lda_pred) )\n",
    "print('F1 Score: ', f1_score(y_test, lda_pred) )\n",
    "pd.DataFrame(confusion_matrix(y_test, lda_pred), columns = ['Fully Paid (pred)', 'Charged Off (pred)'], index = ['Fully Paid (true)', 'Charged Off (true)'])"
   ]
  },
  {
   "cell_type": "markdown",
   "metadata": {},
   "source": [
    "### Quadratic Discriminant Analysis"
   ]
  },
  {
   "cell_type": "code",
   "execution_count": null,
   "metadata": {},
   "outputs": [],
   "source": [
    "from sklearn.discriminant_analysis import QuadraticDiscriminantAnalysis\n",
    "qda = QuadraticDiscriminantAnalysis().fit(X_train, y_train)\n",
    "qda_pred = qda.predict(X_test)\n",
    "qda_pred_prob = qda.predict_proba(X_test)\n",
    "print('ROC_AUC: ', roc_auc_score(y_test.values.reshape(-1,1), qda_pred_prob[:,1]))\n",
    "print('Accuracy: ', accuracy_score(y_test, qda_pred) )  # lda.score(X_test_scaled, y_test)\n",
    "print('Precision: ', precision_score(y_test, qda_pred) )\n",
    "print('Recall: ', recall_score(y_test, qda_pred) )\n",
    "print('F1 Score: ', f1_score(y_test, qda_pred) )\n",
    "pd.DataFrame(confusion_matrix(y_test, qda_pred), columns = ['Fully Paid (pred)', 'Charged Off (pred)'], index = ['Fully Paid (true)', 'Charged Off (true)'])"
   ]
  },
  {
   "cell_type": "markdown",
   "metadata": {},
   "source": [
    "### Support Vector Machine"
   ]
  },
  {
   "cell_type": "code",
   "execution_count": null,
   "metadata": {},
   "outputs": [],
   "source": [
    "# from sklearn.svm import LinearSVC\n",
    "# C = [0.001, 0.01, 0.1, 1, 10, 100, 100]\n",
    "# for c in C:\n",
    "#     svm = LinearSVC(C = c).fit(X_train, y_train)\n",
    "#     svm_pred = svm.predict(X_test)\n",
    "#     #svm_pred_prob = svm.predict_proba(X_test)\n",
    "#     print('For C =  ', c)\n",
    "#     #print('ROC_AUC: ', roc_auc_score(y_test.values.reshape(-1,1), svm_pred_prob[:,1]))\n",
    "#     print('Accuracy: ', accuracy_score(y_test, svm_pred) )  # lda.score(X_test_scaled, y_test)\n",
    "#     print('Precision: ', precision_score(y_test, svm_pred) )\n",
    "#     print('Recall: ', recall_score(y_test, svm_pred) )\n",
    "#     print('F1 Score: ', f1_score(y_test, svm_pred) )\n",
    "#     print('\\n')\n",
    "#     pd.DataFrame(confusion_matrix(y_test, svm_pred), columns = ['Fully Paid (pred)', 'Charged Off (pred)'], index = ['Fully Paid (true)', 'Charged Off (true)'])"
   ]
  },
  {
   "cell_type": "markdown",
   "metadata": {},
   "source": [
    "Did not converge, most probably data is not linearly separable. "
   ]
  },
  {
   "cell_type": "markdown",
   "metadata": {},
   "source": [
    "## With Scaling"
   ]
  },
  {
   "cell_type": "code",
   "execution_count": 77,
   "metadata": {},
   "outputs": [],
   "source": [
    "from sklearn import preprocessing\n",
    "scaler = preprocessing.StandardScaler().fit(X_train)\n",
    "X_train_scaled = scaler.transform(X_train)\n",
    "X_test_scaled = scaler.transform(X_test)"
   ]
  },
  {
   "cell_type": "markdown",
   "metadata": {},
   "source": [
    "### Logistic Regression"
   ]
  },
  {
   "cell_type": "code",
   "execution_count": 71,
   "metadata": {},
   "outputs": [
    {
     "name": "stdout",
     "output_type": "stream",
     "text": [
      "ROC_AUC:  0.8389585268636944\n",
      "Accuracy:  0.7512287756925826\n",
      "Precision:  0.721201211030194\n",
      "Recall:  0.8197816098368584\n",
      "F1 Score:  0.7673381971409169\n"
     ]
    },
    {
     "data": {
      "text/html": [
       "<div>\n",
       "<style scoped>\n",
       "    .dataframe tbody tr th:only-of-type {\n",
       "        vertical-align: middle;\n",
       "    }\n",
       "\n",
       "    .dataframe tbody tr th {\n",
       "        vertical-align: top;\n",
       "    }\n",
       "\n",
       "    .dataframe thead th {\n",
       "        text-align: right;\n",
       "    }\n",
       "</style>\n",
       "<table border=\"1\" class=\"dataframe\">\n",
       "  <thead>\n",
       "    <tr style=\"text-align: right;\">\n",
       "      <th></th>\n",
       "      <th>Fully Paid (pred)</th>\n",
       "      <th>Charged Off (pred)</th>\n",
       "    </tr>\n",
       "  </thead>\n",
       "  <tbody>\n",
       "    <tr>\n",
       "      <th>Fully Paid (true)</th>\n",
       "      <td>36631</td>\n",
       "      <td>17036</td>\n",
       "    </tr>\n",
       "    <tr>\n",
       "      <th>Charged Off (true)</th>\n",
       "      <td>9688</td>\n",
       "      <td>44069</td>\n",
       "    </tr>\n",
       "  </tbody>\n",
       "</table>\n",
       "</div>"
      ],
      "text/plain": [
       "                    Fully Paid (pred)  Charged Off (pred)\n",
       "Fully Paid (true)               36631               17036\n",
       "Charged Off (true)               9688               44069"
      ]
     },
     "execution_count": 71,
     "metadata": {},
     "output_type": "execute_result"
    }
   ],
   "source": [
    "logistic = LogisticRegression(solver = 'saga', max_iter = 5000).fit(X_train_scaled, y_train)\n",
    "logistic_pred_prob = logistic.predict_proba(X_test_scaled)\n",
    "logistic_pred = logistic.predict(X_test_scaled)\n",
    "print('ROC_AUC: ', roc_auc_score(y_test.values.reshape(-1,1), logistic_pred_prob[:,1]))\n",
    "print('Accuracy: ', accuracy_score(y_test, logistic_pred) )\n",
    "print('Precision: ', precision_score(y_test, logistic_pred) )\n",
    "print('Recall: ', recall_score(y_test, logistic_pred) )\n",
    "print('F1 Score: ', f1_score(y_test, logistic_pred) )\n",
    "pd.DataFrame(confusion_matrix(y_test, logistic_pred), columns = ['Fully Paid (pred)', 'Charged Off (pred)'], index = ['Fully Paid (true)', 'Charged Off (true)'])"
   ]
  },
  {
   "cell_type": "markdown",
   "metadata": {},
   "source": [
    "### Linear Discriminant Analysis"
   ]
  },
  {
   "cell_type": "code",
   "execution_count": 72,
   "metadata": {},
   "outputs": [
    {
     "name": "stdout",
     "output_type": "stream",
     "text": [
      "ROC_AUC:  0.8119233518207568\n",
      "Accuracy:  0.7303675156389634\n",
      "Precision:  0.7116803278688525\n",
      "Recall:  0.7752664769239355\n",
      "F1 Score:  0.7421138385106439\n"
     ]
    },
    {
     "data": {
      "text/html": [
       "<div>\n",
       "<style scoped>\n",
       "    .dataframe tbody tr th:only-of-type {\n",
       "        vertical-align: middle;\n",
       "    }\n",
       "\n",
       "    .dataframe tbody tr th {\n",
       "        vertical-align: top;\n",
       "    }\n",
       "\n",
       "    .dataframe thead th {\n",
       "        text-align: right;\n",
       "    }\n",
       "</style>\n",
       "<table border=\"1\" class=\"dataframe\">\n",
       "  <thead>\n",
       "    <tr style=\"text-align: right;\">\n",
       "      <th></th>\n",
       "      <th>Fully Paid (pred)</th>\n",
       "      <th>Charged Off (pred)</th>\n",
       "    </tr>\n",
       "  </thead>\n",
       "  <tbody>\n",
       "    <tr>\n",
       "      <th>Fully Paid (true)</th>\n",
       "      <td>36783</td>\n",
       "      <td>16884</td>\n",
       "    </tr>\n",
       "    <tr>\n",
       "      <th>Charged Off (true)</th>\n",
       "      <td>12081</td>\n",
       "      <td>41676</td>\n",
       "    </tr>\n",
       "  </tbody>\n",
       "</table>\n",
       "</div>"
      ],
      "text/plain": [
       "                    Fully Paid (pred)  Charged Off (pred)\n",
       "Fully Paid (true)               36783               16884\n",
       "Charged Off (true)              12081               41676"
      ]
     },
     "execution_count": 72,
     "metadata": {},
     "output_type": "execute_result"
    }
   ],
   "source": [
    "from sklearn.discriminant_analysis import LinearDiscriminantAnalysis\n",
    "lda = LinearDiscriminantAnalysis().fit(X_train_scaled, y_train)\n",
    "lda_pred = lda.predict(X_test_scaled)\n",
    "lda_pred_prob = lda.predict_proba(X_test_scaled)\n",
    "print('ROC_AUC: ', roc_auc_score(y_test.values.reshape(-1,1), lda_pred_prob[:,1]))\n",
    "print('Accuracy: ', accuracy_score(y_test, lda_pred) )  # lda.score(X_test_scaled, y_test)\n",
    "print('Precision: ', precision_score(y_test, lda_pred) )\n",
    "print('Recall: ', recall_score(y_test, lda_pred) )\n",
    "print('F1 Score: ', f1_score(y_test, lda_pred) )\n",
    "pd.DataFrame(confusion_matrix(y_test, lda_pred), columns = ['Fully Paid (pred)', 'Charged Off (pred)'], index = ['Fully Paid (true)', 'Charged Off (true)'])"
   ]
  },
  {
   "cell_type": "markdown",
   "metadata": {},
   "source": [
    "### Quadratic Discriminant Analysis"
   ]
  },
  {
   "cell_type": "code",
   "execution_count": 73,
   "metadata": {},
   "outputs": [
    {
     "name": "stdout",
     "output_type": "stream",
     "text": [
      "ROC_AUC:  0.8115713162487177\n",
      "Accuracy:  0.7066670390229371\n",
      "Precision:  0.6419329318089015\n",
      "Recall:  0.9358223115129193\n",
      "F1 Score:  0.7615061494796593\n"
     ]
    },
    {
     "data": {
      "text/html": [
       "<div>\n",
       "<style scoped>\n",
       "    .dataframe tbody tr th:only-of-type {\n",
       "        vertical-align: middle;\n",
       "    }\n",
       "\n",
       "    .dataframe tbody tr th {\n",
       "        vertical-align: top;\n",
       "    }\n",
       "\n",
       "    .dataframe thead th {\n",
       "        text-align: right;\n",
       "    }\n",
       "</style>\n",
       "<table border=\"1\" class=\"dataframe\">\n",
       "  <thead>\n",
       "    <tr style=\"text-align: right;\">\n",
       "      <th></th>\n",
       "      <th>Fully Paid (pred)</th>\n",
       "      <th>Charged Off (pred)</th>\n",
       "    </tr>\n",
       "  </thead>\n",
       "  <tbody>\n",
       "    <tr>\n",
       "      <th>Fully Paid (true)</th>\n",
       "      <td>25606</td>\n",
       "      <td>28061</td>\n",
       "    </tr>\n",
       "    <tr>\n",
       "      <th>Charged Off (true)</th>\n",
       "      <td>3450</td>\n",
       "      <td>50307</td>\n",
       "    </tr>\n",
       "  </tbody>\n",
       "</table>\n",
       "</div>"
      ],
      "text/plain": [
       "                    Fully Paid (pred)  Charged Off (pred)\n",
       "Fully Paid (true)               25606               28061\n",
       "Charged Off (true)               3450               50307"
      ]
     },
     "execution_count": 73,
     "metadata": {},
     "output_type": "execute_result"
    }
   ],
   "source": [
    "from sklearn.discriminant_analysis import QuadraticDiscriminantAnalysis\n",
    "qda = QuadraticDiscriminantAnalysis().fit(X_train_scaled, y_train)\n",
    "qda_pred = qda.predict(X_test_scaled)\n",
    "qda_pred_prob = qda.predict_proba(X_test_scaled)\n",
    "print('ROC_AUC: ', roc_auc_score(y_test.values.reshape(-1,1), qda_pred_prob[:,1]))\n",
    "print('Accuracy: ', accuracy_score(y_test, qda_pred) )  # lda.score(X_test_scaled, y_test)\n",
    "print('Precision: ', precision_score(y_test, qda_pred) )\n",
    "print('Recall: ', recall_score(y_test, qda_pred) )\n",
    "print('F1 Score: ', f1_score(y_test, qda_pred) )\n",
    "pd.DataFrame(confusion_matrix(y_test, qda_pred), columns = ['Fully Paid (pred)', 'Charged Off (pred)'], index = ['Fully Paid (true)', 'Charged Off (true)'])"
   ]
  },
  {
   "cell_type": "markdown",
   "metadata": {},
   "source": [
    "### Support Vector Machine"
   ]
  },
  {
   "cell_type": "code",
   "execution_count": 74,
   "metadata": {},
   "outputs": [
    {
     "name": "stdout",
     "output_type": "stream",
     "text": [
      "Accuracy:  0.7473562704795949\n",
      "Precision:  0.7165497827749483\n",
      "Recall:  0.8191863385233551\n",
      "F1 Score:  0.7644383495061364\n",
      "\n",
      "\n"
     ]
    },
    {
     "data": {
      "text/html": [
       "<div>\n",
       "<style scoped>\n",
       "    .dataframe tbody tr th:only-of-type {\n",
       "        vertical-align: middle;\n",
       "    }\n",
       "\n",
       "    .dataframe tbody tr th {\n",
       "        vertical-align: top;\n",
       "    }\n",
       "\n",
       "    .dataframe thead th {\n",
       "        text-align: right;\n",
       "    }\n",
       "</style>\n",
       "<table border=\"1\" class=\"dataframe\">\n",
       "  <thead>\n",
       "    <tr style=\"text-align: right;\">\n",
       "      <th></th>\n",
       "      <th>Fully Paid (pred)</th>\n",
       "      <th>Charged Off (pred)</th>\n",
       "    </tr>\n",
       "  </thead>\n",
       "  <tbody>\n",
       "    <tr>\n",
       "      <th>Fully Paid (true)</th>\n",
       "      <td>36247</td>\n",
       "      <td>17420</td>\n",
       "    </tr>\n",
       "    <tr>\n",
       "      <th>Charged Off (true)</th>\n",
       "      <td>9720</td>\n",
       "      <td>44037</td>\n",
       "    </tr>\n",
       "  </tbody>\n",
       "</table>\n",
       "</div>"
      ],
      "text/plain": [
       "                    Fully Paid (pred)  Charged Off (pred)\n",
       "Fully Paid (true)               36247               17420\n",
       "Charged Off (true)               9720               44037"
      ]
     },
     "execution_count": 74,
     "metadata": {},
     "output_type": "execute_result"
    }
   ],
   "source": [
    "from sklearn.svm import LinearSVC\n",
    "svm = LinearSVC(C = 0.001).fit(X_train_scaled, y_train)\n",
    "svm_pred = svm.predict(X_test_scaled)\n",
    "#svm_pred_prob = svm.predict_proba(X_test)\n",
    "#print('ROC_AUC: ', roc_auc_score(y_test.values.reshape(-1,1), svm_pred_prob[:,1]))\n",
    "print('Accuracy: ', accuracy_score(y_test, svm_pred) )  # lda.score(X_test_scaled, y_test)\n",
    "print('Precision: ', precision_score(y_test, svm_pred) )\n",
    "print('Recall: ', recall_score(y_test, svm_pred) )\n",
    "print('F1 Score: ', f1_score(y_test, svm_pred) )\n",
    "print('\\n')\n",
    "pd.DataFrame(confusion_matrix(y_test, svm_pred), columns = ['Fully Paid (pred)', 'Charged Off (pred)'], index = ['Fully Paid (true)', 'Charged Off (true)'])"
   ]
  },
  {
   "cell_type": "markdown",
   "metadata": {},
   "source": [
    "Rate of Convergence is too low, hence is discarded from modelling and also results are much weaker than other models"
   ]
  },
  {
   "cell_type": "markdown",
   "metadata": {},
   "source": [
    "### AdaBoost "
   ]
  },
  {
   "cell_type": "code",
   "execution_count": 78,
   "metadata": {},
   "outputs": [
    {
     "name": "stdout",
     "output_type": "stream",
     "text": [
      "ROC_AUC:  0.8678441487732402\n",
      "Accuracy:  0.7856810396187072\n",
      "Precision:  0.7515304285199856\n",
      "Recall:  0.8541027215060364\n",
      "F1 Score:  0.7995402739201226\n"
     ]
    }
   ],
   "source": [
    "from sklearn.ensemble import AdaBoostClassifier\n",
    "adaboost = AdaBoostClassifier(n_estimators=800).fit(X_train_scaled, y_train)\n",
    "adaboost_pred_prob = adaboost.predict_proba(X_test_scaled)\n",
    "adaboost_pred = adaboost.predict(X_test_scaled)\n",
    "print('ROC_AUC: ', roc_auc_score(y_test.values.reshape(-1,1), adaboost_pred_prob[:,1]))\n",
    "print('Accuracy: ', accuracy_score(y_test, adaboost_pred) )\n",
    "print('Precision: ', precision_score(y_test, adaboost_pred) )\n",
    "print('Recall: ', recall_score(y_test, adaboost_pred) )\n",
    "print('F1 Score: ', f1_score(y_test, adaboost_pred) )"
   ]
  },
  {
   "cell_type": "markdown",
   "metadata": {},
   "source": [
    "## Model comparison and Hyperparameter Tuning"
   ]
  },
  {
   "cell_type": "code",
   "execution_count": null,
   "metadata": {},
   "outputs": [],
   "source": [
    "from sklearn.ensemble import AdaBoostClassifier\n",
    "from sklearn.discriminant_analysis import QuadraticDiscriminantAnalysis\n",
    "from sklearn.discriminant_analysis import LinearDiscriminantAnalysis\n",
    "from sklearn.linear_model import LogisticRegression\n",
    "\n",
    "logistic = LogisticRegression(solver = 'saga', max_iter = 5000)\n",
    "lda = LinearDiscriminantAnalysis()\n",
    "qda = QuadraticDiscriminantAnalysis()\n",
    "adaboost = AdaBoostClassifier()"
   ]
  },
  {
   "cell_type": "code",
   "execution_count": 51,
   "metadata": {},
   "outputs": [
    {
     "name": "stderr",
     "output_type": "stream",
     "text": [
      "C:\\Aidyn\\Python\\lib\\site-packages\\sklearn\\linear_model\\_sag.py:329: ConvergenceWarning: The max_iter was reached which means the coef_ did not converge\n",
      "  \"the coef_ did not converge\", ConvergenceWarning)\n",
      "C:\\Aidyn\\Python\\lib\\site-packages\\sklearn\\linear_model\\_sag.py:329: ConvergenceWarning: The max_iter was reached which means the coef_ did not converge\n",
      "  \"the coef_ did not converge\", ConvergenceWarning)\n",
      "C:\\Aidyn\\Python\\lib\\site-packages\\sklearn\\linear_model\\_sag.py:329: ConvergenceWarning: The max_iter was reached which means the coef_ did not converge\n",
      "  \"the coef_ did not converge\", ConvergenceWarning)\n",
      "C:\\Aidyn\\Python\\lib\\site-packages\\sklearn\\linear_model\\_sag.py:329: ConvergenceWarning: The max_iter was reached which means the coef_ did not converge\n",
      "  \"the coef_ did not converge\", ConvergenceWarning)\n"
     ]
    },
    {
     "data": {
      "text/html": [
       "<div>\n",
       "<style scoped>\n",
       "    .dataframe tbody tr th:only-of-type {\n",
       "        vertical-align: middle;\n",
       "    }\n",
       "\n",
       "    .dataframe tbody tr th {\n",
       "        vertical-align: top;\n",
       "    }\n",
       "\n",
       "    .dataframe thead th {\n",
       "        text-align: right;\n",
       "    }\n",
       "</style>\n",
       "<table border=\"1\" class=\"dataframe\">\n",
       "  <thead>\n",
       "    <tr style=\"text-align: right;\">\n",
       "      <th></th>\n",
       "      <th>0</th>\n",
       "      <th>0</th>\n",
       "      <th>0</th>\n",
       "      <th>0</th>\n",
       "    </tr>\n",
       "  </thead>\n",
       "  <tbody>\n",
       "    <tr>\n",
       "      <th>fit_time</th>\n",
       "      <td>1516.538798</td>\n",
       "      <td>2.151198</td>\n",
       "      <td>0.854514</td>\n",
       "      <td>88.629283</td>\n",
       "    </tr>\n",
       "    <tr>\n",
       "      <th>score_time</th>\n",
       "      <td>0.199683</td>\n",
       "      <td>0.176133</td>\n",
       "      <td>0.343900</td>\n",
       "      <td>4.204899</td>\n",
       "    </tr>\n",
       "    <tr>\n",
       "      <th>test_roc_auc</th>\n",
       "      <td>0.758734</td>\n",
       "      <td>0.797143</td>\n",
       "      <td>0.803511</td>\n",
       "      <td>0.824691</td>\n",
       "    </tr>\n",
       "    <tr>\n",
       "      <th>test_accuracy</th>\n",
       "      <td>0.703333</td>\n",
       "      <td>0.717507</td>\n",
       "      <td>0.704167</td>\n",
       "      <td>0.737726</td>\n",
       "    </tr>\n",
       "    <tr>\n",
       "      <th>test_precision</th>\n",
       "      <td>0.642314</td>\n",
       "      <td>0.704296</td>\n",
       "      <td>0.639817</td>\n",
       "      <td>0.713004</td>\n",
       "    </tr>\n",
       "    <tr>\n",
       "      <th>test_recall</th>\n",
       "      <td>0.917716</td>\n",
       "      <td>0.747601</td>\n",
       "      <td>0.934774</td>\n",
       "      <td>0.795665</td>\n",
       "    </tr>\n",
       "    <tr>\n",
       "      <th>test_f1</th>\n",
       "      <td>0.755694</td>\n",
       "      <td>0.724082</td>\n",
       "      <td>0.759596</td>\n",
       "      <td>0.751840</td>\n",
       "    </tr>\n",
       "  </tbody>\n",
       "</table>\n",
       "</div>"
      ],
      "text/plain": [
       "                          0         0         0          0\n",
       "fit_time        1516.538798  2.151198  0.854514  88.629283\n",
       "score_time         0.199683  0.176133  0.343900   4.204899\n",
       "test_roc_auc       0.758734  0.797143  0.803511   0.824691\n",
       "test_accuracy      0.703333  0.717507  0.704167   0.737726\n",
       "test_precision     0.642314  0.704296  0.639817   0.713004\n",
       "test_recall        0.917716  0.747601  0.934774   0.795665\n",
       "test_f1            0.755694  0.724082  0.759596   0.751840"
      ]
     },
     "execution_count": 51,
     "metadata": {},
     "output_type": "execute_result"
    }
   ],
   "source": [
    "from sklearn.model_selection import cross_validate\n",
    "scoring = ['roc_auc', 'accuracy', 'precision', 'recall', 'f1']\n",
    "dfs = []\n",
    "models = [logistic, lda,qda,adaboost]\n",
    "for model in models:\n",
    "    cv = cross_validate(model, X, y, cv=5, scoring = scoring)\n",
    "    df = pd.DataFrame(pd.DataFrame(cv).mean())\n",
    "    dfs.append(df)\n",
    "pd.concat(dfs, axis = 1)"
   ]
  },
  {
   "cell_type": "code",
   "execution_count": 63,
   "metadata": {},
   "outputs": [
    {
     "data": {
      "text/html": [
       "<div>\n",
       "<style scoped>\n",
       "    .dataframe tbody tr th:only-of-type {\n",
       "        vertical-align: middle;\n",
       "    }\n",
       "\n",
       "    .dataframe tbody tr th {\n",
       "        vertical-align: top;\n",
       "    }\n",
       "\n",
       "    .dataframe thead th {\n",
       "        text-align: right;\n",
       "    }\n",
       "</style>\n",
       "<table border=\"1\" class=\"dataframe\">\n",
       "  <thead>\n",
       "    <tr style=\"text-align: right;\">\n",
       "      <th></th>\n",
       "      <th>logistic</th>\n",
       "      <th>lda</th>\n",
       "      <th>qda</th>\n",
       "      <th>adaboost</th>\n",
       "    </tr>\n",
       "  </thead>\n",
       "  <tbody>\n",
       "    <tr>\n",
       "      <th>fit_time</th>\n",
       "      <td>1516.538798</td>\n",
       "      <td>2.151198</td>\n",
       "      <td>0.854514</td>\n",
       "      <td>88.629283</td>\n",
       "    </tr>\n",
       "    <tr>\n",
       "      <th>score_time</th>\n",
       "      <td>0.199683</td>\n",
       "      <td>0.176133</td>\n",
       "      <td>0.343900</td>\n",
       "      <td>4.204899</td>\n",
       "    </tr>\n",
       "    <tr>\n",
       "      <th>test_roc_auc</th>\n",
       "      <td>0.758734</td>\n",
       "      <td>0.797143</td>\n",
       "      <td>0.803511</td>\n",
       "      <td>0.824691</td>\n",
       "    </tr>\n",
       "    <tr>\n",
       "      <th>test_accuracy</th>\n",
       "      <td>0.703333</td>\n",
       "      <td>0.717507</td>\n",
       "      <td>0.704167</td>\n",
       "      <td>0.737726</td>\n",
       "    </tr>\n",
       "    <tr>\n",
       "      <th>test_precision</th>\n",
       "      <td>0.642314</td>\n",
       "      <td>0.704296</td>\n",
       "      <td>0.639817</td>\n",
       "      <td>0.713004</td>\n",
       "    </tr>\n",
       "    <tr>\n",
       "      <th>test_recall</th>\n",
       "      <td>0.917716</td>\n",
       "      <td>0.747601</td>\n",
       "      <td>0.934774</td>\n",
       "      <td>0.795665</td>\n",
       "    </tr>\n",
       "    <tr>\n",
       "      <th>test_f1</th>\n",
       "      <td>0.755694</td>\n",
       "      <td>0.724082</td>\n",
       "      <td>0.759596</td>\n",
       "      <td>0.751840</td>\n",
       "    </tr>\n",
       "  </tbody>\n",
       "</table>\n",
       "</div>"
      ],
      "text/plain": [
       "                   logistic       lda       qda   adaboost\n",
       "fit_time        1516.538798  2.151198  0.854514  88.629283\n",
       "score_time         0.199683  0.176133  0.343900   4.204899\n",
       "test_roc_auc       0.758734  0.797143  0.803511   0.824691\n",
       "test_accuracy      0.703333  0.717507  0.704167   0.737726\n",
       "test_precision     0.642314  0.704296  0.639817   0.713004\n",
       "test_recall        0.917716  0.747601  0.934774   0.795665\n",
       "test_f1            0.755694  0.724082  0.759596   0.751840"
      ]
     },
     "execution_count": 63,
     "metadata": {},
     "output_type": "execute_result"
    }
   ],
   "source": [
    "results = pd.concat(dfs, axis = 1)\n",
    "results.columns = ['logistic', 'lda', 'qda', 'adaboost']\n",
    "results"
   ]
  },
  {
   "cell_type": "code",
   "execution_count": 80,
   "metadata": {},
   "outputs": [],
   "source": [
    "from sklearn.model_selection import GridSearchCV\n",
    "ada=AdaBoostClassifier()\n",
    "search_grid={'n_estimators':[100, 500, 800, 1200],\n",
    "             'learning_rate':[1, 0.1, 0.01, 0.001]}\n",
    "\n",
    "search=GridSearchCV(estimator=ada,\n",
    "                    param_grid=search_grid,\n",
    "                    scoring='roc_auc',n_jobs=1, cv = 5)"
   ]
  },
  {
   "cell_type": "code",
   "execution_count": 82,
   "metadata": {},
   "outputs": [
    {
     "data": {
      "text/plain": [
       "GridSearchCV(estimator=AdaBoostClassifier(), n_jobs=1,\n",
       "             param_grid={'learning_rate': [1], 'n_estimators': [800]},\n",
       "             scoring='roc_auc')"
      ]
     },
     "execution_count": 82,
     "metadata": {},
     "output_type": "execute_result"
    }
   ],
   "source": [
    "search.fit(X,y)"
   ]
  },
  {
   "cell_type": "code",
   "execution_count": null,
   "metadata": {},
   "outputs": [],
   "source": [
    "pd.DataFrame(search.cv_results_)"
   ]
  }
 ],
 "metadata": {
  "kernelspec": {
   "display_name": "Python 3",
   "language": "python",
   "name": "python3"
  },
  "language_info": {
   "codemirror_mode": {
    "name": "ipython",
    "version": 3
   },
   "file_extension": ".py",
   "mimetype": "text/x-python",
   "name": "python",
   "nbconvert_exporter": "python",
   "pygments_lexer": "ipython3",
   "version": "3.7.4"
  },
  "toc": {
   "base_numbering": 1,
   "nav_menu": {},
   "number_sections": true,
   "sideBar": true,
   "skip_h1_title": false,
   "title_cell": "Table of Contents",
   "title_sidebar": "Contents",
   "toc_cell": false,
   "toc_position": {
    "height": "calc(100% - 180px)",
    "left": "10px",
    "top": "150px",
    "width": "236px"
   },
   "toc_section_display": true,
   "toc_window_display": true
  },
  "varInspector": {
   "cols": {
    "lenName": 16,
    "lenType": 16,
    "lenVar": 40
   },
   "kernels_config": {
    "python": {
     "delete_cmd_postfix": "",
     "delete_cmd_prefix": "del ",
     "library": "var_list.py",
     "varRefreshCmd": "print(var_dic_list())"
    },
    "r": {
     "delete_cmd_postfix": ") ",
     "delete_cmd_prefix": "rm(",
     "library": "var_list.r",
     "varRefreshCmd": "cat(var_dic_list()) "
    }
   },
   "types_to_exclude": [
    "module",
    "function",
    "builtin_function_or_method",
    "instance",
    "_Feature"
   ],
   "window_display": false
  }
 },
 "nbformat": 4,
 "nbformat_minor": 2
}
